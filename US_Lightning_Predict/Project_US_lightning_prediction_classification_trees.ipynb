{
  "nbformat": 4,
  "nbformat_minor": 0,
  "metadata": {
    "kernelspec": {
      "display_name": "Python 3",
      "language": "python",
      "name": "python3"
    },
    "language_info": {
      "codemirror_mode": {
        "name": "ipython",
        "version": 3
      },
      "file_extension": ".py",
      "mimetype": "text/x-python",
      "name": "python",
      "nbconvert_exporter": "python",
      "pygments_lexer": "ipython3",
      "version": "3.8.3"
    },
    "colab": {
      "name": "Project_US_lightning_prediction_classification_trees.ipynb",
      "provenance": []
    }
  },
  "cells": [
    {
      "cell_type": "markdown",
      "metadata": {
        "id": "0xC8SH47gQ9l"
      },
      "source": [
        "using the dataset we are predicting FIRE_SIZE_CLASS using predictors,\"FIRE_YEAR\",\"DISCOVERY_TIME\",\"Days_to_extinguish_fire\",\"CONT_TIME\",\"FIRE_SIZE\""
      ]
    },
    {
      "cell_type": "code",
      "metadata": {
        "id": "n8fLiQ3ggQ9q"
      },
      "source": [
        "#importing the packages required to start\n",
        "import pandas as pd\n",
        "import numpy as np\n",
        "import sklearn"
      ],
      "execution_count": null,
      "outputs": []
    },
    {
      "cell_type": "code",
      "metadata": {
        "id": "PIe5Z20TgQ9t"
      },
      "source": [
        "#importing the data from excel file in python usinfg pandas\n",
        "data=pd.read_excel(\"/content/Us Fire Data.xlsx\")"
      ],
      "execution_count": null,
      "outputs": []
    },
    {
      "cell_type": "code",
      "metadata": {
        "collapsed": true,
        "colab": {
          "base_uri": "https://localhost:8080/"
        },
        "id": "ACFfScm8gQ9t",
        "outputId": "77819bc0-8d0f-4f4f-c78f-b8f3e640fce5"
      },
      "source": [
        "data.info()"
      ],
      "execution_count": null,
      "outputs": [
        {
          "output_type": "stream",
          "name": "stdout",
          "text": [
            "<class 'pandas.core.frame.DataFrame'>\n",
            "RangeIndex: 78512 entries, 0 to 78511\n",
            "Data columns (total 13 columns):\n",
            " #   Column                   Non-Null Count  Dtype         \n",
            "---  ------                   --------------  -----         \n",
            " 0   FIRE_YEAR                78512 non-null  int64         \n",
            " 1   Fire_Date                78512 non-null  datetime64[ns]\n",
            " 2   DISCOVERY_TIME           78512 non-null  int64         \n",
            " 3   STAT_CAUSE_DESCR         78512 non-null  object        \n",
            " 4   Days_to_extinguish_fire  78512 non-null  int64         \n",
            " 5   CONT_TIME                78512 non-null  int64         \n",
            " 6   FIRE_SIZE                78512 non-null  float64       \n",
            " 7   FIRE_SIZE_CLASS          78512 non-null  object        \n",
            " 8   LATITUDE                 78512 non-null  float64       \n",
            " 9   LONGITUDE                78512 non-null  float64       \n",
            " 10  STATE                    78512 non-null  object        \n",
            " 11  FIPS_CODE                78512 non-null  int64         \n",
            " 12  FIPS_NAME                78512 non-null  object        \n",
            "dtypes: datetime64[ns](1), float64(3), int64(5), object(4)\n",
            "memory usage: 7.8+ MB\n"
          ]
        }
      ]
    },
    {
      "cell_type": "code",
      "metadata": {
        "collapsed": true,
        "colab": {
          "base_uri": "https://localhost:8080/",
          "height": 224
        },
        "id": "u6aH7KyWgQ9v",
        "outputId": "a1cfc18c-fc01-4c04-d92f-e9c68a647400"
      },
      "source": [
        "data.head()"
      ],
      "execution_count": null,
      "outputs": [
        {
          "output_type": "execute_result",
          "data": {
            "text/html": [
              "<div>\n",
              "<style scoped>\n",
              "    .dataframe tbody tr th:only-of-type {\n",
              "        vertical-align: middle;\n",
              "    }\n",
              "\n",
              "    .dataframe tbody tr th {\n",
              "        vertical-align: top;\n",
              "    }\n",
              "\n",
              "    .dataframe thead th {\n",
              "        text-align: right;\n",
              "    }\n",
              "</style>\n",
              "<table border=\"1\" class=\"dataframe\">\n",
              "  <thead>\n",
              "    <tr style=\"text-align: right;\">\n",
              "      <th></th>\n",
              "      <th>FIRE_YEAR</th>\n",
              "      <th>Fire_Date</th>\n",
              "      <th>DISCOVERY_TIME</th>\n",
              "      <th>STAT_CAUSE_DESCR</th>\n",
              "      <th>Days_to_extinguish_fire</th>\n",
              "      <th>CONT_TIME</th>\n",
              "      <th>FIRE_SIZE</th>\n",
              "      <th>FIRE_SIZE_CLASS</th>\n",
              "      <th>LATITUDE</th>\n",
              "      <th>LONGITUDE</th>\n",
              "      <th>STATE</th>\n",
              "      <th>FIPS_CODE</th>\n",
              "      <th>FIPS_NAME</th>\n",
              "    </tr>\n",
              "  </thead>\n",
              "  <tbody>\n",
              "    <tr>\n",
              "      <th>0</th>\n",
              "      <td>2015</td>\n",
              "      <td>2015-12-26</td>\n",
              "      <td>1009</td>\n",
              "      <td>Lightning</td>\n",
              "      <td>0</td>\n",
              "      <td>1025</td>\n",
              "      <td>0.1</td>\n",
              "      <td>A</td>\n",
              "      <td>41.2143</td>\n",
              "      <td>-73.9966</td>\n",
              "      <td>NY</td>\n",
              "      <td>87</td>\n",
              "      <td>Rockland</td>\n",
              "    </tr>\n",
              "    <tr>\n",
              "      <th>1</th>\n",
              "      <td>2015</td>\n",
              "      <td>2015-12-11</td>\n",
              "      <td>1230</td>\n",
              "      <td>Lightning</td>\n",
              "      <td>0</td>\n",
              "      <td>1415</td>\n",
              "      <td>0.1</td>\n",
              "      <td>A</td>\n",
              "      <td>44.0511</td>\n",
              "      <td>-123.1772</td>\n",
              "      <td>OR</td>\n",
              "      <td>39</td>\n",
              "      <td>Lane</td>\n",
              "    </tr>\n",
              "    <tr>\n",
              "      <th>2</th>\n",
              "      <td>2015</td>\n",
              "      <td>2015-12-11</td>\n",
              "      <td>1355</td>\n",
              "      <td>Lightning</td>\n",
              "      <td>0</td>\n",
              "      <td>1510</td>\n",
              "      <td>0.1</td>\n",
              "      <td>A</td>\n",
              "      <td>43.8367</td>\n",
              "      <td>-123.2558</td>\n",
              "      <td>OR</td>\n",
              "      <td>39</td>\n",
              "      <td>Lane</td>\n",
              "    </tr>\n",
              "    <tr>\n",
              "      <th>3</th>\n",
              "      <td>2015</td>\n",
              "      <td>2015-12-11</td>\n",
              "      <td>1551</td>\n",
              "      <td>Lightning</td>\n",
              "      <td>0</td>\n",
              "      <td>1603</td>\n",
              "      <td>0.1</td>\n",
              "      <td>A</td>\n",
              "      <td>43.2040</td>\n",
              "      <td>-77.5592</td>\n",
              "      <td>NY</td>\n",
              "      <td>55</td>\n",
              "      <td>Monroe</td>\n",
              "    </tr>\n",
              "    <tr>\n",
              "      <th>4</th>\n",
              "      <td>2015</td>\n",
              "      <td>2015-12-09</td>\n",
              "      <td>1830</td>\n",
              "      <td>Lightning</td>\n",
              "      <td>0</td>\n",
              "      <td>1855</td>\n",
              "      <td>0.1</td>\n",
              "      <td>A</td>\n",
              "      <td>42.8984</td>\n",
              "      <td>-75.6399</td>\n",
              "      <td>NY</td>\n",
              "      <td>53</td>\n",
              "      <td>Madison</td>\n",
              "    </tr>\n",
              "  </tbody>\n",
              "</table>\n",
              "</div>"
            ],
            "text/plain": [
              "   FIRE_YEAR  Fire_Date  DISCOVERY_TIME  ... STATE  FIPS_CODE  FIPS_NAME\n",
              "0       2015 2015-12-26            1009  ...    NY         87   Rockland\n",
              "1       2015 2015-12-11            1230  ...    OR         39       Lane\n",
              "2       2015 2015-12-11            1355  ...    OR         39       Lane\n",
              "3       2015 2015-12-11            1551  ...    NY         55     Monroe\n",
              "4       2015 2015-12-09            1830  ...    NY         53    Madison\n",
              "\n",
              "[5 rows x 13 columns]"
            ]
          },
          "metadata": {},
          "execution_count": 5
        }
      ]
    },
    {
      "cell_type": "code",
      "metadata": {
        "collapsed": true,
        "colab": {
          "base_uri": "https://localhost:8080/",
          "height": 224
        },
        "id": "Jm5m1x7YgQ9w",
        "outputId": "f8beafe3-42ac-4c1f-a8a7-a989e4544cf8"
      },
      "source": [
        "data.tail()"
      ],
      "execution_count": null,
      "outputs": [
        {
          "output_type": "execute_result",
          "data": {
            "text/html": [
              "<div>\n",
              "<style scoped>\n",
              "    .dataframe tbody tr th:only-of-type {\n",
              "        vertical-align: middle;\n",
              "    }\n",
              "\n",
              "    .dataframe tbody tr th {\n",
              "        vertical-align: top;\n",
              "    }\n",
              "\n",
              "    .dataframe thead th {\n",
              "        text-align: right;\n",
              "    }\n",
              "</style>\n",
              "<table border=\"1\" class=\"dataframe\">\n",
              "  <thead>\n",
              "    <tr style=\"text-align: right;\">\n",
              "      <th></th>\n",
              "      <th>FIRE_YEAR</th>\n",
              "      <th>Fire_Date</th>\n",
              "      <th>DISCOVERY_TIME</th>\n",
              "      <th>STAT_CAUSE_DESCR</th>\n",
              "      <th>Days_to_extinguish_fire</th>\n",
              "      <th>CONT_TIME</th>\n",
              "      <th>FIRE_SIZE</th>\n",
              "      <th>FIRE_SIZE_CLASS</th>\n",
              "      <th>LATITUDE</th>\n",
              "      <th>LONGITUDE</th>\n",
              "      <th>STATE</th>\n",
              "      <th>FIPS_CODE</th>\n",
              "      <th>FIPS_NAME</th>\n",
              "    </tr>\n",
              "  </thead>\n",
              "  <tbody>\n",
              "    <tr>\n",
              "      <th>78507</th>\n",
              "      <td>2005</td>\n",
              "      <td>2005-02-11</td>\n",
              "      <td>1342</td>\n",
              "      <td>Lightning</td>\n",
              "      <td>0</td>\n",
              "      <td>1342</td>\n",
              "      <td>0.1</td>\n",
              "      <td>A</td>\n",
              "      <td>40.658781</td>\n",
              "      <td>-73.866038</td>\n",
              "      <td>NY</td>\n",
              "      <td>47</td>\n",
              "      <td>Kings</td>\n",
              "    </tr>\n",
              "    <tr>\n",
              "      <th>78508</th>\n",
              "      <td>2005</td>\n",
              "      <td>2005-02-04</td>\n",
              "      <td>2322</td>\n",
              "      <td>Lightning</td>\n",
              "      <td>0</td>\n",
              "      <td>2322</td>\n",
              "      <td>0.1</td>\n",
              "      <td>A</td>\n",
              "      <td>40.826186</td>\n",
              "      <td>-72.773067</td>\n",
              "      <td>NY</td>\n",
              "      <td>103</td>\n",
              "      <td>Suffolk</td>\n",
              "    </tr>\n",
              "    <tr>\n",
              "      <th>78509</th>\n",
              "      <td>2005</td>\n",
              "      <td>2005-01-06</td>\n",
              "      <td>1730</td>\n",
              "      <td>Lightning</td>\n",
              "      <td>0</td>\n",
              "      <td>1800</td>\n",
              "      <td>0.1</td>\n",
              "      <td>A</td>\n",
              "      <td>38.501400</td>\n",
              "      <td>-113.499400</td>\n",
              "      <td>UT</td>\n",
              "      <td>1</td>\n",
              "      <td>Beaver</td>\n",
              "    </tr>\n",
              "    <tr>\n",
              "      <th>78510</th>\n",
              "      <td>2005</td>\n",
              "      <td>2005-01-02</td>\n",
              "      <td>2117</td>\n",
              "      <td>Lightning</td>\n",
              "      <td>0</td>\n",
              "      <td>2117</td>\n",
              "      <td>0.1</td>\n",
              "      <td>A</td>\n",
              "      <td>40.608369</td>\n",
              "      <td>-74.170255</td>\n",
              "      <td>NY</td>\n",
              "      <td>85</td>\n",
              "      <td>Richmond</td>\n",
              "    </tr>\n",
              "    <tr>\n",
              "      <th>78511</th>\n",
              "      <td>2005</td>\n",
              "      <td>2005-01-01</td>\n",
              "      <td>1434</td>\n",
              "      <td>Lightning</td>\n",
              "      <td>0</td>\n",
              "      <td>1434</td>\n",
              "      <td>0.1</td>\n",
              "      <td>A</td>\n",
              "      <td>40.562794</td>\n",
              "      <td>-74.133089</td>\n",
              "      <td>NY</td>\n",
              "      <td>85</td>\n",
              "      <td>Richmond</td>\n",
              "    </tr>\n",
              "  </tbody>\n",
              "</table>\n",
              "</div>"
            ],
            "text/plain": [
              "       FIRE_YEAR  Fire_Date  DISCOVERY_TIME  ... STATE  FIPS_CODE  FIPS_NAME\n",
              "78507       2005 2005-02-11            1342  ...    NY         47      Kings\n",
              "78508       2005 2005-02-04            2322  ...    NY        103    Suffolk\n",
              "78509       2005 2005-01-06            1730  ...    UT          1     Beaver\n",
              "78510       2005 2005-01-02            2117  ...    NY         85   Richmond\n",
              "78511       2005 2005-01-01            1434  ...    NY         85   Richmond\n",
              "\n",
              "[5 rows x 13 columns]"
            ]
          },
          "metadata": {},
          "execution_count": 6
        }
      ]
    },
    {
      "cell_type": "code",
      "metadata": {
        "collapsed": true,
        "id": "F_3RHMbYgQ9x"
      },
      "source": [
        "#analysis report on our dataset\n",
        "import pandas_profiling as pp\n",
        "pp.ProfileReport(data)"
      ],
      "execution_count": null,
      "outputs": []
    },
    {
      "cell_type": "code",
      "metadata": {
        "id": "x3rkpbP2gQ9y"
      },
      "source": [
        "#Dropping Columns which are highy correlated and not needed\n",
        "new_data=data.drop([\"Fire_Date\",\"STAT_CAUSE_DESCR\",\"LATITUDE\",\"LONGITUDE\",\"STATE\",\"FIPS_CODE\",\"FIPS_NAME\"],axis=1)"
      ],
      "execution_count": null,
      "outputs": []
    },
    {
      "cell_type": "code",
      "metadata": {
        "colab": {
          "base_uri": "https://localhost:8080/",
          "height": 204
        },
        "id": "h_xdj_NbiNLv",
        "outputId": "dafdab93-e917-4251-865d-18e24b540d87"
      },
      "source": [
        "new_data.head()"
      ],
      "execution_count": null,
      "outputs": [
        {
          "output_type": "execute_result",
          "data": {
            "text/html": [
              "<div>\n",
              "<style scoped>\n",
              "    .dataframe tbody tr th:only-of-type {\n",
              "        vertical-align: middle;\n",
              "    }\n",
              "\n",
              "    .dataframe tbody tr th {\n",
              "        vertical-align: top;\n",
              "    }\n",
              "\n",
              "    .dataframe thead th {\n",
              "        text-align: right;\n",
              "    }\n",
              "</style>\n",
              "<table border=\"1\" class=\"dataframe\">\n",
              "  <thead>\n",
              "    <tr style=\"text-align: right;\">\n",
              "      <th></th>\n",
              "      <th>FIRE_YEAR</th>\n",
              "      <th>DISCOVERY_TIME</th>\n",
              "      <th>Days_to_extinguish_fire</th>\n",
              "      <th>CONT_TIME</th>\n",
              "      <th>FIRE_SIZE</th>\n",
              "      <th>FIRE_SIZE_CLASS</th>\n",
              "    </tr>\n",
              "  </thead>\n",
              "  <tbody>\n",
              "    <tr>\n",
              "      <th>0</th>\n",
              "      <td>2015</td>\n",
              "      <td>1009</td>\n",
              "      <td>0</td>\n",
              "      <td>1025</td>\n",
              "      <td>0.1</td>\n",
              "      <td>A</td>\n",
              "    </tr>\n",
              "    <tr>\n",
              "      <th>1</th>\n",
              "      <td>2015</td>\n",
              "      <td>1230</td>\n",
              "      <td>0</td>\n",
              "      <td>1415</td>\n",
              "      <td>0.1</td>\n",
              "      <td>A</td>\n",
              "    </tr>\n",
              "    <tr>\n",
              "      <th>2</th>\n",
              "      <td>2015</td>\n",
              "      <td>1355</td>\n",
              "      <td>0</td>\n",
              "      <td>1510</td>\n",
              "      <td>0.1</td>\n",
              "      <td>A</td>\n",
              "    </tr>\n",
              "    <tr>\n",
              "      <th>3</th>\n",
              "      <td>2015</td>\n",
              "      <td>1551</td>\n",
              "      <td>0</td>\n",
              "      <td>1603</td>\n",
              "      <td>0.1</td>\n",
              "      <td>A</td>\n",
              "    </tr>\n",
              "    <tr>\n",
              "      <th>4</th>\n",
              "      <td>2015</td>\n",
              "      <td>1830</td>\n",
              "      <td>0</td>\n",
              "      <td>1855</td>\n",
              "      <td>0.1</td>\n",
              "      <td>A</td>\n",
              "    </tr>\n",
              "  </tbody>\n",
              "</table>\n",
              "</div>"
            ],
            "text/plain": [
              "   FIRE_YEAR  DISCOVERY_TIME  ...  FIRE_SIZE  FIRE_SIZE_CLASS\n",
              "0       2015            1009  ...        0.1                A\n",
              "1       2015            1230  ...        0.1                A\n",
              "2       2015            1355  ...        0.1                A\n",
              "3       2015            1551  ...        0.1                A\n",
              "4       2015            1830  ...        0.1                A\n",
              "\n",
              "[5 rows x 6 columns]"
            ]
          },
          "metadata": {},
          "execution_count": 9
        }
      ]
    },
    {
      "cell_type": "code",
      "metadata": {
        "colab": {
          "base_uri": "https://localhost:8080/"
        },
        "id": "wSQIZNWOgQ9y",
        "outputId": "0fa3218b-67d4-4a6e-8631-0c045c828642"
      },
      "source": [
        "new_data[\"FIRE_SIZE_CLASS\"].unique()"
      ],
      "execution_count": null,
      "outputs": [
        {
          "output_type": "execute_result",
          "data": {
            "text/plain": [
              "array(['A', 'B', 'C', 'D', 'E', 'G', 'F'], dtype=object)"
            ]
          },
          "metadata": {},
          "execution_count": 10
        }
      ]
    },
    {
      "cell_type": "code",
      "metadata": {
        "id": "GGTEfzrhgQ9z"
      },
      "source": [
        "#Replacing Categorical Values in FIRE_SIZE_CLASS Column with dummies using map\n",
        "new_data['FIRE_SIZE_CLASS']=new_data.FIRE_SIZE_CLASS.map({'A':0,'B':1,'C':2,'D':3,'E':4,'G':5,'F':6})\n"
      ],
      "execution_count": null,
      "outputs": []
    },
    {
      "cell_type": "code",
      "metadata": {
        "colab": {
          "base_uri": "https://localhost:8080/",
          "height": 204
        },
        "id": "fSHbV21riWzO",
        "outputId": "56a87e24-f7cd-4866-f774-08e9c7418296"
      },
      "source": [
        "new_data.head()"
      ],
      "execution_count": null,
      "outputs": [
        {
          "output_type": "execute_result",
          "data": {
            "text/html": [
              "<div>\n",
              "<style scoped>\n",
              "    .dataframe tbody tr th:only-of-type {\n",
              "        vertical-align: middle;\n",
              "    }\n",
              "\n",
              "    .dataframe tbody tr th {\n",
              "        vertical-align: top;\n",
              "    }\n",
              "\n",
              "    .dataframe thead th {\n",
              "        text-align: right;\n",
              "    }\n",
              "</style>\n",
              "<table border=\"1\" class=\"dataframe\">\n",
              "  <thead>\n",
              "    <tr style=\"text-align: right;\">\n",
              "      <th></th>\n",
              "      <th>FIRE_YEAR</th>\n",
              "      <th>DISCOVERY_TIME</th>\n",
              "      <th>Days_to_extinguish_fire</th>\n",
              "      <th>CONT_TIME</th>\n",
              "      <th>FIRE_SIZE</th>\n",
              "      <th>FIRE_SIZE_CLASS</th>\n",
              "    </tr>\n",
              "  </thead>\n",
              "  <tbody>\n",
              "    <tr>\n",
              "      <th>0</th>\n",
              "      <td>2015</td>\n",
              "      <td>1009</td>\n",
              "      <td>0</td>\n",
              "      <td>1025</td>\n",
              "      <td>0.1</td>\n",
              "      <td>0</td>\n",
              "    </tr>\n",
              "    <tr>\n",
              "      <th>1</th>\n",
              "      <td>2015</td>\n",
              "      <td>1230</td>\n",
              "      <td>0</td>\n",
              "      <td>1415</td>\n",
              "      <td>0.1</td>\n",
              "      <td>0</td>\n",
              "    </tr>\n",
              "    <tr>\n",
              "      <th>2</th>\n",
              "      <td>2015</td>\n",
              "      <td>1355</td>\n",
              "      <td>0</td>\n",
              "      <td>1510</td>\n",
              "      <td>0.1</td>\n",
              "      <td>0</td>\n",
              "    </tr>\n",
              "    <tr>\n",
              "      <th>3</th>\n",
              "      <td>2015</td>\n",
              "      <td>1551</td>\n",
              "      <td>0</td>\n",
              "      <td>1603</td>\n",
              "      <td>0.1</td>\n",
              "      <td>0</td>\n",
              "    </tr>\n",
              "    <tr>\n",
              "      <th>4</th>\n",
              "      <td>2015</td>\n",
              "      <td>1830</td>\n",
              "      <td>0</td>\n",
              "      <td>1855</td>\n",
              "      <td>0.1</td>\n",
              "      <td>0</td>\n",
              "    </tr>\n",
              "  </tbody>\n",
              "</table>\n",
              "</div>"
            ],
            "text/plain": [
              "   FIRE_YEAR  DISCOVERY_TIME  ...  FIRE_SIZE  FIRE_SIZE_CLASS\n",
              "0       2015            1009  ...        0.1                0\n",
              "1       2015            1230  ...        0.1                0\n",
              "2       2015            1355  ...        0.1                0\n",
              "3       2015            1551  ...        0.1                0\n",
              "4       2015            1830  ...        0.1                0\n",
              "\n",
              "[5 rows x 6 columns]"
            ]
          },
          "metadata": {},
          "execution_count": 12
        }
      ]
    },
    {
      "cell_type": "code",
      "metadata": {
        "id": "BYdHEPdzgQ90"
      },
      "source": [
        "#Assigning X,y Values\n",
        "X=new_data.drop([\"FIRE_SIZE_CLASS\"],axis=1)"
      ],
      "execution_count": null,
      "outputs": []
    },
    {
      "cell_type": "code",
      "metadata": {
        "id": "w_OaIKVhgQ91"
      },
      "source": [
        "y=new_data[\"FIRE_SIZE_CLASS\"]"
      ],
      "execution_count": null,
      "outputs": []
    },
    {
      "cell_type": "markdown",
      "metadata": {
        "id": "67UycekDgQ92"
      },
      "source": [
        "# Applying Decision Tree Classifier"
      ]
    },
    {
      "cell_type": "code",
      "metadata": {
        "id": "rU2KkJAMgQ92"
      },
      "source": [
        "#importing train_test_split method to split data into train & test\n",
        "from sklearn.model_selection import train_test_split"
      ],
      "execution_count": null,
      "outputs": []
    },
    {
      "cell_type": "code",
      "metadata": {
        "id": "83e1ePQygQ93"
      },
      "source": [
        "#splitting data into train & test with 70% as train data and 30% as test data\n",
        "X_train,X_test,y_train,y_test=train_test_split(X,y,test_size=0.30,random_state=5)"
      ],
      "execution_count": null,
      "outputs": []
    },
    {
      "cell_type": "code",
      "metadata": {
        "id": "J1rZSUCYgQ94"
      },
      "source": [
        "#Importing the Algorithm \n",
        "from sklearn.tree import DecisionTreeClassifier "
      ],
      "execution_count": null,
      "outputs": []
    },
    {
      "cell_type": "code",
      "metadata": {
        "id": "yHjxIGLVgQ95"
      },
      "source": [
        "#Activating the model\n",
        "Model=DecisionTreeClassifier()"
      ],
      "execution_count": null,
      "outputs": []
    },
    {
      "cell_type": "code",
      "metadata": {
        "id": "TCqprWcJgQ95",
        "outputId": "4b766400-f927-49ce-bbbb-a0327ffc101f"
      },
      "source": [
        "#training the model with X_train and y_train data\n",
        "Model.fit(X_train,y_train)"
      ],
      "execution_count": null,
      "outputs": [
        {
          "data": {
            "text/plain": [
              "DecisionTreeClassifier()"
            ]
          },
          "execution_count": 26,
          "metadata": {},
          "output_type": "execute_result"
        }
      ]
    },
    {
      "cell_type": "code",
      "metadata": {
        "id": "GFJtjzfcgQ96"
      },
      "source": [
        "#Predicting from the model by giving X_test data\n",
        "prediction=Model.predict(X_test)"
      ],
      "execution_count": null,
      "outputs": []
    },
    {
      "cell_type": "markdown",
      "metadata": {
        "id": "WcqX19WrgQ97"
      },
      "source": [
        "# Model Accuracy"
      ]
    },
    {
      "cell_type": "code",
      "metadata": {
        "id": "wWS1X-uLgQ98"
      },
      "source": [
        "#Checking the model accuracy by classification report and confusion matrix\n",
        "#importing metrics\n",
        "from sklearn.metrics import classification_report,confusion_matrix"
      ],
      "execution_count": null,
      "outputs": []
    },
    {
      "cell_type": "code",
      "metadata": {
        "id": "fWA2q2uugQ98",
        "outputId": "5d09fee6-3a45-47a7-d034-d6b4cc2c593a"
      },
      "source": [
        "print(classification_report(y_test,prediction))"
      ],
      "execution_count": null,
      "outputs": [
        {
          "name": "stdout",
          "output_type": "stream",
          "text": [
            "              precision    recall  f1-score   support\n",
            "\n",
            "           0       1.00      1.00      1.00     13670\n",
            "           1       1.00      1.00      1.00      6565\n",
            "           2       1.00      1.00      1.00      1896\n",
            "           3       1.00      1.00      1.00       476\n",
            "           4       1.00      1.00      1.00       367\n",
            "           5       1.00      1.00      1.00       237\n",
            "           6       1.00      1.00      1.00       343\n",
            "\n",
            "    accuracy                           1.00     23554\n",
            "   macro avg       1.00      1.00      1.00     23554\n",
            "weighted avg       1.00      1.00      1.00     23554\n",
            "\n"
          ]
        }
      ]
    },
    {
      "cell_type": "code",
      "metadata": {
        "id": "kiX5cFs2gQ99",
        "outputId": "c49c4543-2dcf-41c5-dae5-5a3ead5cb5c5"
      },
      "source": [
        "confusion_matrix(y_test,prediction)"
      ],
      "execution_count": null,
      "outputs": [
        {
          "data": {
            "text/plain": [
              "array([[13670,     0,     0,     0,     0,     0,     0],\n",
              "       [    0,  6565,     0,     0,     0,     0,     0],\n",
              "       [    0,     0,  1896,     0,     0,     0,     0],\n",
              "       [    0,     0,     0,   476,     0,     0,     0],\n",
              "       [    0,     0,     0,     0,   367,     0,     0],\n",
              "       [    0,     0,     0,     0,     0,   237,     0],\n",
              "       [    0,     0,     0,     0,     0,     0,   343]], dtype=int64)"
            ]
          },
          "execution_count": 30,
          "metadata": {},
          "output_type": "execute_result"
        }
      ]
    },
    {
      "cell_type": "code",
      "metadata": {
        "id": "FP1npCNYgQ9-",
        "outputId": "66188c02-07a5-4aa0-f54d-1f48437dc970"
      },
      "source": [
        "X"
      ],
      "execution_count": null,
      "outputs": [
        {
          "data": {
            "text/html": [
              "<div>\n",
              "<style scoped>\n",
              "    .dataframe tbody tr th:only-of-type {\n",
              "        vertical-align: middle;\n",
              "    }\n",
              "\n",
              "    .dataframe tbody tr th {\n",
              "        vertical-align: top;\n",
              "    }\n",
              "\n",
              "    .dataframe thead th {\n",
              "        text-align: right;\n",
              "    }\n",
              "</style>\n",
              "<table border=\"1\" class=\"dataframe\">\n",
              "  <thead>\n",
              "    <tr style=\"text-align: right;\">\n",
              "      <th></th>\n",
              "      <th>FIRE_YEAR</th>\n",
              "      <th>DISCOVERY_TIME</th>\n",
              "      <th>Days_to_extinguish_fire</th>\n",
              "      <th>CONT_TIME</th>\n",
              "      <th>FIRE_SIZE</th>\n",
              "    </tr>\n",
              "  </thead>\n",
              "  <tbody>\n",
              "    <tr>\n",
              "      <th>0</th>\n",
              "      <td>2015</td>\n",
              "      <td>1009</td>\n",
              "      <td>0</td>\n",
              "      <td>1025</td>\n",
              "      <td>0.1</td>\n",
              "    </tr>\n",
              "    <tr>\n",
              "      <th>1</th>\n",
              "      <td>2015</td>\n",
              "      <td>1230</td>\n",
              "      <td>0</td>\n",
              "      <td>1415</td>\n",
              "      <td>0.1</td>\n",
              "    </tr>\n",
              "    <tr>\n",
              "      <th>2</th>\n",
              "      <td>2015</td>\n",
              "      <td>1355</td>\n",
              "      <td>0</td>\n",
              "      <td>1510</td>\n",
              "      <td>0.1</td>\n",
              "    </tr>\n",
              "    <tr>\n",
              "      <th>3</th>\n",
              "      <td>2015</td>\n",
              "      <td>1551</td>\n",
              "      <td>0</td>\n",
              "      <td>1603</td>\n",
              "      <td>0.1</td>\n",
              "    </tr>\n",
              "    <tr>\n",
              "      <th>4</th>\n",
              "      <td>2015</td>\n",
              "      <td>1830</td>\n",
              "      <td>0</td>\n",
              "      <td>1855</td>\n",
              "      <td>0.1</td>\n",
              "    </tr>\n",
              "    <tr>\n",
              "      <th>...</th>\n",
              "      <td>...</td>\n",
              "      <td>...</td>\n",
              "      <td>...</td>\n",
              "      <td>...</td>\n",
              "      <td>...</td>\n",
              "    </tr>\n",
              "    <tr>\n",
              "      <th>78507</th>\n",
              "      <td>2005</td>\n",
              "      <td>1342</td>\n",
              "      <td>0</td>\n",
              "      <td>1342</td>\n",
              "      <td>0.1</td>\n",
              "    </tr>\n",
              "    <tr>\n",
              "      <th>78508</th>\n",
              "      <td>2005</td>\n",
              "      <td>2322</td>\n",
              "      <td>0</td>\n",
              "      <td>2322</td>\n",
              "      <td>0.1</td>\n",
              "    </tr>\n",
              "    <tr>\n",
              "      <th>78509</th>\n",
              "      <td>2005</td>\n",
              "      <td>1730</td>\n",
              "      <td>0</td>\n",
              "      <td>1800</td>\n",
              "      <td>0.1</td>\n",
              "    </tr>\n",
              "    <tr>\n",
              "      <th>78510</th>\n",
              "      <td>2005</td>\n",
              "      <td>2117</td>\n",
              "      <td>0</td>\n",
              "      <td>2117</td>\n",
              "      <td>0.1</td>\n",
              "    </tr>\n",
              "    <tr>\n",
              "      <th>78511</th>\n",
              "      <td>2005</td>\n",
              "      <td>1434</td>\n",
              "      <td>0</td>\n",
              "      <td>1434</td>\n",
              "      <td>0.1</td>\n",
              "    </tr>\n",
              "  </tbody>\n",
              "</table>\n",
              "<p>78512 rows × 5 columns</p>\n",
              "</div>"
            ],
            "text/plain": [
              "       FIRE_YEAR  DISCOVERY_TIME  Days_to_extinguish_fire  CONT_TIME  \\\n",
              "0           2015            1009                        0       1025   \n",
              "1           2015            1230                        0       1415   \n",
              "2           2015            1355                        0       1510   \n",
              "3           2015            1551                        0       1603   \n",
              "4           2015            1830                        0       1855   \n",
              "...          ...             ...                      ...        ...   \n",
              "78507       2005            1342                        0       1342   \n",
              "78508       2005            2322                        0       2322   \n",
              "78509       2005            1730                        0       1800   \n",
              "78510       2005            2117                        0       2117   \n",
              "78511       2005            1434                        0       1434   \n",
              "\n",
              "       FIRE_SIZE  \n",
              "0            0.1  \n",
              "1            0.1  \n",
              "2            0.1  \n",
              "3            0.1  \n",
              "4            0.1  \n",
              "...          ...  \n",
              "78507        0.1  \n",
              "78508        0.1  \n",
              "78509        0.1  \n",
              "78510        0.1  \n",
              "78511        0.1  \n",
              "\n",
              "[78512 rows x 5 columns]"
            ]
          },
          "execution_count": 33,
          "metadata": {},
          "output_type": "execute_result"
        }
      ]
    },
    {
      "cell_type": "code",
      "metadata": {
        "id": "U0BbKR9LgQ9_"
      },
      "source": [
        ""
      ],
      "execution_count": null,
      "outputs": []
    }
  ]
}