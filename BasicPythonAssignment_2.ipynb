{
  "nbformat": 4,
  "nbformat_minor": 0,
  "metadata": {
    "colab": {
      "name": "BasicPythonAssignment-2.ipynb",
      "provenance": []
    },
    "kernelspec": {
      "name": "python3",
      "display_name": "Python 3"
    },
    "language_info": {
      "name": "python"
    }
  },
  "cells": [
    {
      "cell_type": "code",
      "execution_count": null,
      "metadata": {
        "colab": {
          "base_uri": "https://localhost:8080/"
        },
        "id": "2Sl-H_ASTdKV",
        "outputId": "d8057681-99fc-4274-f630-8b97f5fcaf9e"
      },
      "outputs": [
        {
          "output_type": "stream",
          "name": "stdout",
          "text": [
            "3\n",
            "4 2\n",
            "5\n",
            "5 2\n",
            "8\n",
            "5 3\n",
            "13\n"
          ]
        }
      ],
      "source": [
        "\n",
        "def permutations(dic, size, S):\n",
        "    c = [0 for i in range(S + 1)]\n",
        "    c[0] = 1\n",
        "    for i in range(1, S + 1):\n",
        "        for j in range(size):\n",
        "            if (i >= dic[j]):\n",
        "                c[i] += c[i - dic[j]]\n",
        "    return c[S]\n",
        "\n",
        "n=int(input())\n",
        "for i in range(n):\n",
        "  a=list(map(int, input().split()))\n",
        "  dic=[i for i in range(1,a[1]+1)]\n",
        "  size = len(dic)\n",
        "  S = a[0]\n",
        "  print(permutations(dic,size,S))\n",
        "\n"
      ]
    },
    {
      "cell_type": "code",
      "source": [
        "def SmallestDiv(n):\n",
        "   \n",
        "    i = 2\n",
        "    while i * i <= n:\n",
        " \n",
        "        if (n % i == 0):\n",
        "  \n",
        "            return i\n",
        "        i += 1\n",
        "     \n",
        "    return n\n",
        "\n",
        "if __name__==\"__main__\":\n",
        " \n",
        "    X = 8\n",
        "    ans = SmallestDiv(X)\n",
        " \n",
        "    print(ans)"
      ],
      "metadata": {
        "colab": {
          "base_uri": "https://localhost:8080/"
        },
        "id": "mJZr_fjUpvnX",
        "outputId": "88c1974e-b70f-448a-8332-dd2a50eb63ef"
      },
      "execution_count": null,
      "outputs": [
        {
          "output_type": "stream",
          "name": "stdout",
          "text": [
            "2\n"
          ]
        }
      ]
    },
    {
      "cell_type": "code",
      "source": [
        "n=list(map(int, input().split()))\n",
        "arr=list(map(int, input().split()))\n",
        "for i in range(n[1]):\n",
        "  s=0\n",
        "  di=list(map(int, input().split()))\n",
        "  k=arr[di[0]-1:di[1]]\n",
        "  for j in k:\n",
        "    if(j%2==0):\n",
        "      s=s+2\n",
        "    else:\n",
        "      s=s+j\n",
        "  print(s)"
      ],
      "metadata": {
        "id": "_mJpUudVqL4r"
      },
      "execution_count": null,
      "outputs": []
    }
  ]
}