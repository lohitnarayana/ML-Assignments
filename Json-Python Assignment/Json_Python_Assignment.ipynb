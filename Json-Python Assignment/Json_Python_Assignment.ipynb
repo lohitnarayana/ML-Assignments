{
  "cells": [
    {
      "cell_type": "code",
      "execution_count": null,
      "metadata": {
        "colab": {
          "base_uri": "https://localhost:8080/"
        },
        "id": "nswYRXcoAaGs",
        "outputId": "0270c57c-4a68-46c8-806e-96d1146a28b7"
      },
      "outputs": [
        {
          "name": "stdout",
          "output_type": "stream",
          "text": [
            "Average of TotalCharges for customers that have churned : 1531.7960941680035\n"
          ]
        }
      ],
      "source": [
        "import json\n",
        "\n",
        "count = 0\n",
        "sum = 0\n",
        "\n",
        "for readline in open(\"/content/Telco.json\", encoding='utf8'):\n",
        "    datarow = json.loads(readline)\n",
        "    for elements in datarow:\n",
        "        for key, value in elements.items():\n",
        "            if key == 'Churn':\n",
        "                if value == 'Yes':\n",
        "                    count += 1\n",
        "                    sum = sum+float(elements['TotalCharges'])\n",
        "print(\"Average of TotalCharges for customers that have churned :\", (sum/count))\n",
        "\n",
        "\n",
        "#OUTPUT -- Average of TotalCharges for customers that have churned : 1531.7960941680035"
      ]
    },
    {
      "cell_type": "code",
      "execution_count": null,
      "metadata": {
        "colab": {
          "background_save": true
        },
        "id": "V_OtKc04A520",
        "outputId": "be7c0068-9e61-4642-dfe3-9d1c08b6802c"
      },
      "outputs": [
        {
          "name": "stdout",
          "output_type": "stream",
          "text": [
            "number of customers : 7043 \n",
            "number of customers that churned : 1869 \n",
            "number of customers that did not churn: 5174\n"
          ]
        },
        {
          "data": {
            "application/vnd.google.colaboratory.intrinsic+json": {
              "type": "string"
            },
            "text/plain": [
              "'OUTPUT -- number of customers : 7043 \\n\\t    number of customers that churned : 1869 \\n\\t    number of customers that did not churn: 5174'"
            ]
          },
          "execution_count": null,
          "metadata": {},
          "output_type": "execute_result"
        }
      ],
      "source": [
        "import json\n",
        "\n",
        "count_customers = 0\n",
        "count_churned = 0\n",
        "count_not_churned = 0\n",
        "for readline in open(\"F:\\Telco.json\", encoding='utf8'):\n",
        "    datarow = json.loads(readline)\n",
        "    for elements in datarow:\n",
        "        for key, value in elements.items():\n",
        "            if key == 'Churn':\n",
        "                if value == 'Yes':\n",
        "                    count_churned += 1\n",
        "                if value == 'No':\n",
        "                    count_not_churned += 1\n",
        "        count_customers += 1\n",
        "\n",
        "print(\"number of customers :\",count_customers,\"\\n\"\n",
        "      \"number of customers that churned :\", count_churned,\"\\n\"\n",
        "      \"number of customers that did not churn:\", count_not_churned)\n",
        "\n",
        "\n",
        "OUTPUT -- number of customers : 7043 \n",
        "\t    number of customers that churned : 1869 \n",
        "\t    number of customers that did not churn: 5174"
      ]
    }
  ],
  "metadata": {
    "colab": {
      "name": "Json-Python_Assignment.ipynb",
      "provenance": []
    },
    "kernelspec": {
      "display_name": "Python 3",
      "name": "python3"
    },
    "language_info": {
      "name": "python"
    }
  },
  "nbformat": 4,
  "nbformat_minor": 0
}