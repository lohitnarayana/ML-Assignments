{
  "nbformat": 4,
  "nbformat_minor": 0,
  "metadata": {
    "colab": {
      "name": "lab_Assignment.ipynb",
      "provenance": [],
      "collapsed_sections": [],
      "toc_visible": true
    },
    "kernelspec": {
      "name": "python3",
      "display_name": "Python 3"
    },
    "language_info": {
      "name": "python"
    }
  },
  "cells": [
    {
      "cell_type": "markdown",
      "metadata": {
        "id": "zLGH-E0nvYjA"
      },
      "source": [
        "# INSY5336-LAB 4_Question 2"
      ]
    },
    {
      "cell_type": "markdown",
      "metadata": {
        "id": "lkAg_bIHvfN7"
      },
      "source": [
        "####Create a program that allows you to store the data for players of a game\n"
      ]
    },
    {
      "cell_type": "code",
      "metadata": {
        "colab": {
          "base_uri": "https://localhost:8080/"
        },
        "id": "shG2hWLJuIcX",
        "outputId": "7806d7f5-e890-4a34-8c9b-cd1d9508e514"
      },
      "source": [
        "# Import module\n",
        "import sqlite3\n",
        "  \n",
        "# Connecting to sqlite\n",
        "conn = sqlite3.connect('data_entry12.db')\n",
        "  \n",
        "# Creating a cursor object using the \n",
        "# cursor() method\n",
        "cursor = conn.cursor()\n",
        "  \n",
        "# Creating table\n",
        "table =\"\"\"CREATE TABLE MATCH1 (NAME VARCHAR(255), WIN INTEGER, LOSSES INTEGER, TIES INTEGER, GAMES INTEGER);\"\"\"\n",
        "cursor.execute(table)\n"
      ],
      "execution_count": null,
      "outputs": [
        {
          "output_type": "execute_result",
          "data": {
            "text/plain": [
              "<sqlite3.Cursor at 0x7f30b4073b20>"
            ]
          },
          "metadata": {},
          "execution_count": 36
        }
      ]
    },
    {
      "cell_type": "code",
      "metadata": {
        "colab": {
          "base_uri": "https://localhost:8080/"
        },
        "id": "v35DadJJwDOU",
        "outputId": "68df131f-fd66-4c05-8a4f-95eacb70ec4b"
      },
      "source": [
        "import pandas as pd\n",
        "print(\"COMMAND MENU\")\n",
        "list1={'view':'View player', 'add':\"Add a player\", 'del': ' Delete a player', 'exit':'Exit Program'}\n",
        "for i in list1:\n",
        "  print(f'{i}-{list1[i]}')\n",
        "while(True):\n",
        "  choice=input('Command: ')\n",
        "  if(choice=='view'):\n",
        "    data=cursor.execute('''SELECT * FROM MATCH1''')\n",
        "    df = pd.DataFrame(data, columns=['NAME','WINS','LOSSES','TIES','GAMES'])\n",
        "    '''print('NAME         WINS         LOSSES        TIES        GAMES')\n",
        "    print(\"-----------------------------------------------------------\")\n",
        "    for i in data:\n",
        "      for j in range(len(i)):\n",
        "        print(i[j],end='            ')\n",
        "      print('')'''\n",
        "    print(df)\n",
        "  elif(choice=='add'):\n",
        "    name=input('Name: ');wins=int(input(\"Wins: \"));losses=int(input(\"Losses: \"));ties = int(input(\"Ties: \"))\n",
        "    games=wins+losses+ties\n",
        "    cursor.execute('''INSERT INTO MATCH1 VALUES (?, ?, ?, ?, ?)''',(name,wins,losses,ties,games))\n",
        "    \n",
        "    print(f'{name} is added in database')\n",
        "\n",
        "  elif(choice=='del'):\n",
        "    name=input(\"Name: \")\n",
        "    sql = 'DELETE FROM MATCH1 WHERE NAME=?'\n",
        "    cursor.execute(sql,(name,))\n",
        "    print(f'{name} is deleted from the database')\n",
        "    conn.commit()\n",
        "  elif(choice=='exit'):\n",
        "    print('Bye!')\n",
        "    break\n"
      ],
      "execution_count": null,
      "outputs": [
        {
          "output_type": "stream",
          "name": "stdout",
          "text": [
            "COMMAND MENU\n",
            "view-View player\n",
            "add-Add a player\n",
            "del- Delete a player\n",
            "exit-Exit Program\n",
            "Command: view\n",
            "   NAME  WINS  LOSSES  TIES  GAMES\n",
            "0  givi     7       5     4     16\n",
            "1   kit     6       5     4     15\n",
            "Command: add\n",
            "Name: anne\n",
            "Wins: 9\n",
            "Losses: 5\n",
            "Ties: 3\n",
            "anne is added in database\n",
            "Command: view\n",
            "   NAME  WINS  LOSSES  TIES  GAMES\n",
            "0  givi     7       5     4     16\n",
            "1   kit     6       5     4     15\n",
            "2  anne     9       5     3     17\n",
            "Command: del\n",
            "Name: kit\n",
            "kit is deleted from the database\n",
            "Command: view\n",
            "   NAME  WINS  LOSSES  TIES  GAMES\n",
            "0  givi     7       5     4     16\n",
            "1  anne     9       5     3     17\n",
            "Command: del\n",
            "Name: givi\n",
            "givi is deleted from the database\n",
            "Command: view\n",
            "   NAME  WINS  LOSSES  TIES  GAMES\n",
            "0  anne     9       5     3     17\n",
            "Command: exit\n",
            "Bye!\n"
          ]
        }
      ]
    }
  ]
}