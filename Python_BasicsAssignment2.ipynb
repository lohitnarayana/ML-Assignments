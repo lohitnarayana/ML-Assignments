{
  "nbformat": 4,
  "nbformat_minor": 0,
  "metadata": {
    "colab": {
      "name": "Python_BasicsAssignment2.ipynb",
      "provenance": [],
      "toc_visible": true
    },
    "kernelspec": {
      "name": "python3",
      "display_name": "Python 3"
    },
    "language_info": {
      "name": "python"
    }
  },
  "cells": [
    {
      "cell_type": "code",
      "metadata": {
        "colab": {
          "base_uri": "https://localhost:8080/"
        },
        "id": "WASw189zsBpG",
        "outputId": "5fa3667f-0413-40ea-cea3-be166f51fbb0"
      },
      "source": [
        "import random\n",
        "name=int(input())\n",
        "for j in range(name):\n",
        "  l=[]\n",
        "  roll = [random.randint(1,7) for x in range(100)] # to get the random number 100 times\n",
        "  l=[roll.count(i) for i in range(1,7)] #list stores the frequencies of 1's-6's occured while rolling dice\n",
        "  print(\"RUN {}\".format(j+1))\n",
        "  print(\"Frequencies\")\n",
        "  for i in range(1,7):\n",
        "    print(\"Number of {}s: {}\".format(i,l[i-1]))\n",
        "  for i in range(1,7):\n",
        "    print('*'*l[i-1])  #For graphical display of frequencies"
      ],
      "execution_count": null,
      "outputs": [
        {
          "output_type": "stream",
          "name": "stdout",
          "text": [
            "RUN 1\n",
            "Frequencies\n",
            "Number of 1s: 12\n",
            "Number of 2s: 11\n",
            "Number of 3s: 18\n",
            "Number of 4s: 12\n",
            "Number of 5s: 14\n",
            "Number of 6s: 12\n",
            "************\n",
            "***********\n",
            "******************\n",
            "************\n",
            "**************\n",
            "************\n",
            "RUN 2\n",
            "Frequencies\n",
            "Number of 1s: 7\n",
            "Number of 2s: 9\n",
            "Number of 3s: 24\n",
            "Number of 4s: 13\n",
            "Number of 5s: 21\n",
            "Number of 6s: 17\n",
            "*******\n",
            "*********\n",
            "************************\n",
            "*************\n",
            "*********************\n",
            "*****************\n"
          ]
        }
      ]
    },
    {
      "cell_type": "code",
      "metadata": {
        "colab": {
          "base_uri": "https://localhost:8080/"
        },
        "id": "ghm5KZ9EzAYQ",
        "outputId": "77540b7d-54c0-469f-a25a-2c57d5cbc170"
      },
      "source": [
        "import random\n",
        "n=int(input(\"Enter a number to be guessed: \"))\n",
        "if((n>0) and (n<101)): #to make sure the value entered is between 1-100\n",
        "  c=0\n",
        "  while True:\n",
        "    c+=1 #for iteration count\n",
        "    roll = random.randint(1,101)\n",
        "    if(roll==n):\n",
        "      print(\"you entered {}, and it took the program {} itertion to guess\".format(n,c))\n",
        "      break\n",
        "else:\n",
        "  print(\"please enter the number that should be guess in 1-100 range\")\n"
      ],
      "execution_count": null,
      "outputs": [
        {
          "output_type": "stream",
          "name": "stdout",
          "text": [
            "Enter a number to be guessed: 88\n",
            "you entered 88, and it took the program 433 itertion to guess\n"
          ]
        }
      ]
    },
    {
      "cell_type": "code",
      "metadata": {
        "id": "ZELJWgeT2YDJ"
      },
      "source": [
        ""
      ],
      "execution_count": null,
      "outputs": []
    },
    {
      "cell_type": "code",
      "metadata": {
        "colab": {
          "base_uri": "https://localhost:8080/"
        },
        "id": "ufyv0O2P2HoD",
        "outputId": "298c1d33-dff5-4ab1-db58-48447ca3add9"
      },
      "source": [
        "def letter(n,n1):\n",
        "  c=0\n",
        "  for i in n:\n",
        "    if((list(i)[0].lower()==n1.lower())): #converting into lowers so that it doesn't satisfy case sensitive \n",
        "      c+=1 #Count to check how many times did it occured\n",
        "  print(\"Your Letter {} occurs as first letter: {} times\".format(n1,c))\n",
        "n=input().split()\n",
        "n1=input()\n",
        "letter(n,n1)\n"
      ],
      "execution_count": null,
      "outputs": [
        {
          "output_type": "stream",
          "name": "stdout",
          "text": [
            "Where the mind is without fear and the head is held high\n",
            "H\n",
            "Your Letter H occurs as first letter: 3 times\n"
          ]
        }
      ]
    },
    {
      "cell_type": "code",
      "metadata": {
        "colab": {
          "base_uri": "https://localhost:8080/"
        },
        "id": "PX0Thncs_mhH",
        "outputId": "fe6899fb-f26b-4da6-a3b5-e5319a981a02"
      },
      "source": [
        "n=list(input())\n",
        "n1=list(input());c=0\n",
        "if(len(n)==len(n1)): #To check if the length of 2 strings are same\n",
        "  for i in n:\n",
        "    if(i in n1):# if charecters in str1 are also present in str2\n",
        "      c+=1  \n",
        "  if(c==len(n)):\n",
        "    print(\"s1 and s2 are balanced\")\n",
        "  else:\n",
        "    print(\"s1 and s2 are not balanced\")\n",
        "else:\n",
        "  print(\"s1 and s2 are not balanced\")"
      ],
      "execution_count": null,
      "outputs": [
        {
          "output_type": "stream",
          "name": "stdout",
          "text": [
            "mom\n",
            "mom\n",
            "s1 and s2 are balanced\n"
          ]
        }
      ]
    },
    {
      "cell_type": "code",
      "metadata": {
        "colab": {
          "base_uri": "https://localhost:8080/"
        },
        "id": "vEG0hy9w4eYn",
        "outputId": "c3e1b532-4d6d-4da6-cb94-ea83f01a51d1"
      },
      "source": [
        "n=input(\"What is the filename: \")\n",
        "\n",
        "file= open(\"/content/\"+n) #To get content of  the file \n",
        "\n",
        "lcount=0;ccount=0\n",
        "for i in file:\n",
        "  if(i!=\"\\n\"):\n",
        "    lcount+=1 #No.of lines count in whole file\n",
        "    wcount=len(i.split()) #word count \n",
        "    a=[len(list(j)) for j in i.split()] \n",
        "    acount=round(sum(a)/len(a),2)#average word count\n",
        "    c=[len(list(j)) for j in i.split()]\n",
        "    ccount=ccount+sum(c)#No.of characters in the whole file\n",
        "\n",
        "print(\"Number of lines: \",lcount)\n",
        "print(\"Number of words: \",wcount)\n",
        "print(\"Number of characters: \",ccount)\n",
        "print(\"Average lenght of a word: \",acount)\n",
        "\n",
        "\n",
        "\n",
        "\n",
        "\n",
        "\n"
      ],
      "execution_count": null,
      "outputs": [
        {
          "output_type": "stream",
          "name": "stdout",
          "text": [
            "What is the filename: assignment.txt\n",
            "Number of lines:  3\n",
            "Number of words:  7\n",
            "Number of characters:  32\n",
            "Average lenght of a word:  2.86\n"
          ]
        }
      ]
    },
    {
      "cell_type": "code",
      "metadata": {
        "colab": {
          "base_uri": "https://localhost:8080/"
        },
        "id": "SkTpIaYvj0ac",
        "outputId": "ad67e78b-90e0-441f-9d32-2c48ebb067fa"
      },
      "source": [
        "even=[]; odd=[]\n",
        "def SEGEven(L,R):\n",
        "   # Base case\n",
        "    if (R < L):\n",
        "        return\n",
        " \n",
        "    # Recurrence relation\n",
        "    if (R % 2 == 0):\n",
        "        Even(L, R - 2)\n",
        "    else:\n",
        "        Even(L, R - 1)\n",
        " \n",
        "    # Check if R is even\n",
        "    if (R % 2 == 0):\n",
        "        even.append(R)\n",
        "def SEGOdd(start, end):\n",
        " \n",
        "  if(end < start):\n",
        "    return\n",
        "  if (end % 2 == 1):\n",
        "    SEGOdd(start, end - 2)\n",
        "  else:\n",
        "    SEGOdd(start, end - 1)\n",
        "  if (end % 2 == 1):\n",
        "    odd.append(R)\n",
        "\n",
        "list1=[1,2,3,4,5,6,7,8,9,10]\n",
        "SEGEven(1,10)\n",
        "print(len(even))"
      ],
      "execution_count": null,
      "outputs": [
        {
          "output_type": "stream",
          "name": "stdout",
          "text": [
            "2 4 6 8 1\n"
          ]
        }
      ]
    },
    {
      "cell_type": "code",
      "metadata": {
        "colab": {
          "base_uri": "https://localhost:8080/"
        },
        "id": "Uw3tZCaLoj9-",
        "outputId": "6f95d9fb-52b0-4cdc-bca2-2f02c02310a4"
      },
      "source": [
        "def SEGodd(numlist):\n",
        "  if not numlist:\n",
        "    return []\n",
        "  if(numlist[0] % 2 == 1):\n",
        "    return [numlist[0]] + SEGodd(numlist[1:])\n",
        "  return(SEGodd(numlist[1:]))\n",
        "def SEGeven(numlist):\n",
        "  if not numlist:\n",
        "    return []\n",
        "  if(numlist[0] % 2 == 0):\n",
        "    return [numlist[0]] + SEGeven(numlist[1:])\n",
        "  return(SEGeven(numlist[1:]))\n",
        "original_list=[]\n",
        "user=[int(i) for i in input().split()]\n",
        "original_list.append(SEGodd(user))\n",
        "original_list.append(SEGeven(user))\n",
        "print(original_list)"
      ],
      "execution_count": null,
      "outputs": [
        {
          "output_type": "stream",
          "name": "stdout",
          "text": [
            "1 2 3 4 5 6 7 8 9 10\n",
            "[[1, 3, 5, 7, 9], [2, 4, 6, 8, 10]]\n"
          ]
        }
      ]
    }
  ]
}