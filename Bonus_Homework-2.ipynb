{
  "nbformat": 4,
  "nbformat_minor": 0,
  "metadata": {
    "colab": {
      "name": "Bonus_Homework.ipynb",
      "provenance": [],
      "toc_visible": true
    },
    "kernelspec": {
      "name": "python3",
      "display_name": "Python 3"
    },
    "language_info": {
      "name": "python"
    }
  },
  "cells": [
    {
      "cell_type": "markdown",
      "metadata": {
        "id": "FrnSmcSy4Gvp"
      },
      "source": [
        "# Q1. Write a Python program to create another form of Caesar encryption. \n",
        "#In this form, the writer would write the message in a long strip of paper, and the recipient will wrap the message around a scepter. The letters that align in a line would be the secret message contained within."
      ]
    },
    {
      "cell_type": "code",
      "metadata": {
        "colab": {
          "base_uri": "https://localhost:8080/"
        },
        "id": "-5xPpnlR4O7f",
        "outputId": "8f72ea4b-df13-41bd-e9b5-05650117e42c"
      },
      "source": [
        "import random\n",
        "import string\n",
        "\n",
        "def encrypt(secret_message,N_number,random_sentence):\n",
        "  x=N_number-1\n",
        "  for i in secret_message:\n",
        "    random_sentence[x]=i\n",
        "    x=x+N_number\n",
        "    random_sentence_encrypted=''.join(random_sentence)\n",
        "  return(random_sentence_encrypted)\n",
        "def decrypt(N_number,random_sentence_encrypted):\n",
        "  random_sentence_encrypted=list(random_sentence_encrypted)\n",
        "  x=N_number-1;actual_sentence_is=[]\n",
        "  for i in range(2,len(random_sentence_encrypted),N_number):\n",
        "    actual_sentence_is.append(random_sentence_encrypted[i])\n",
        "  return(''.join(actual_sentence_is))\n",
        "\n",
        "secret_message=list(input('Secret Message : '))\n",
        "N_number = int(input('Nth numeber: '))\n",
        "random_sentence=''.join(random.choice(string.ascii_letters) for x in range(N_number*len(secret_message)))\n",
        "\n",
        "random_sentence=list(random_sentence)\n",
        "random_sentence_encrypted=encrypt(secret_message,N_number,random_sentence)\n",
        "print(f'Encrypted sentence: {random_sentence_encrypted}')\n",
        "actual_sentence_is=decrypt(N_number,random_sentence_encrypted)\n",
        "print(f'Decrypted sentence: {actual_sentence_is}')\n"
      ],
      "execution_count": null,
      "outputs": [
        {
          "output_type": "stream",
          "name": "stdout",
          "text": [
            "Secret Message : show me the money\n",
            "Nth numeber: 3\n",
            "Encrypted sentence: GnsHihnyodPwXW nkmeGeaJ KqtVyhRfeWp jWmOXoVbnrNeFEy\n",
            "Decrypted sentence: show me the money\n"
          ]
        }
      ]
    },
    {
      "cell_type": "markdown",
      "metadata": {
        "id": "fZslhlKIEIpk"
      },
      "source": [
        "# Q2. Another type of Caesar cypher is implemented by embedding the message."
      ]
    },
    {
      "cell_type": "code",
      "metadata": {
        "colab": {
          "base_uri": "https://localhost:8080/"
        },
        "id": "d-iQh78-ENCO",
        "outputId": "1424e987-bbed-447e-dcc8-0aa6461d3d2b"
      },
      "source": [
        "from itertools import chain\n",
        "secret_message=input('Secret Message : ').split()\n",
        "secret_message=[list(i) for i in secret_message]\n",
        "secret_message = list(chain.from_iterable(secret_message))\n",
        "x=0\n",
        "jump=int(input('Jump : '))\n",
        "encrypt_message=['0' for i in range(len(secret_message))]\n",
        " \n",
        "for j in range(jump-1,len(secret_message),jump):\n",
        "  encrypt_message[j]=secret_message[x]\n",
        "  x+=1\n",
        "try:\n",
        "  for i in range(len(secret_message)):\n",
        "    for j in range(i,len(secret_message),jump):\n",
        "      encrypt_message[j]=secret_message[x]\n",
        "      x+=1\n",
        "\n",
        "except:\n",
        "  print('Encrypted message: ',end=\" \")\n",
        "  print(''.join(encrypt_message))"
      ],
      "execution_count": null,
      "outputs": [
        {
          "output_type": "stream",
          "name": "stdout",
          "text": [
            "Secret Message : kill the king tonight\n",
            "Jump : 4\n",
            "Encrypted message:  tnikhggiethlkotlin\n"
          ]
        }
      ]
    }
  ]
}