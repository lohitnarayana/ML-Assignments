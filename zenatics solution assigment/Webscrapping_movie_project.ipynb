{
  "nbformat": 4,
  "nbformat_minor": 0,
  "metadata": {
    "colab": {
      "name": "Webscrapping_movie_project.ipynb",
      "provenance": [],
      "collapsed_sections": [],
      "toc_visible": true
    },
    "kernelspec": {
      "display_name": "Python 3",
      "name": "python3"
    },
    "language_info": {
      "name": "python"
    }
  },
  "cells": [
    {
      "cell_type": "markdown",
      "metadata": {
        "id": "7hfhj2FZljF6"
      },
      "source": [
        "\n",
        "#Python Programming\n",
        "\n"
      ]
    },
    {
      "cell_type": "markdown",
      "metadata": {
        "id": "qQXuXMEckRDo"
      },
      "source": [
        "#1.Write a python program that fetches movie information for the top 500 most popular movies from Metacritics. On this websites, there is an option to show the top movies. \n",
        "On Metacritics, it is called “Movies of All Time”\n",
        "\n",
        "You will first write python script that collect the movie information \n",
        "for the top 500 movies from the website. Next, from the movie information you have collected, \n",
        "extract 2 pieces of information: The list of main cast (actors/actresses), \n",
        "and the genre information of the movie (drama, action, thriller, etc).\n",
        " Build a dictionary of the movies that contain these information. \n",
        " Arrange them in any way you prefer but make sure we can access the information we need at any time. \n",
        " Store them in a comma separated file (called [your name]_movies.csv). "
      ]
    },
    {
      "cell_type": "code",
      "metadata": {
        "id": "Sqvb3oayqYuz",
        "cellView": "form"
      },
      "source": [
        "#@title Scraping the site Metacritics for pulling the data('Movie_name', 'Release_year', 'Reviews', 'Summary', 'Cast', 'Genere') and storing it in a movie.csv file\n"
      ],
      "execution_count": null,
      "outputs": []
    },
    {
      "cell_type": "code",
      "metadata": {
        "id": "N6qJ6SKjl42Z",
        "colab": {
          "base_uri": "https://localhost:8080/"
        },
        "outputId": "6298093a-8e6a-47a1-a67a-ddfe3256776d"
      },
      "source": [
        "import requests\n",
        "import time\n",
        "import numpy as np\n",
        "from bs4 import BeautifulSoup\n",
        "t_names=[];t_year=[];t_reviews=[];t_summary=[];t_ref=[]\n",
        "for i in range(0,5):\n",
        "  URL = \"https://www.metacritic.com/browse/movies/score/metascore/all/filtered?sort=desc\"+\"&page=\"+str(i)\n",
        "  user_agent = {'User-agent': 'Safari/14.1.2'}\n",
        "  time.sleep(4)\n",
        "  r = requests.get(URL,headers = user_agent)\n",
        "  \n",
        "  soup = BeautifulSoup(r.content, 'html.parser')\n",
        "  td=soup.findAll('td',class_='clamp-summary-wrap')\n",
        "  #extracting the Names of top 100 from each page \n",
        "  M_names=[td[i].find('h3').text for i in range(len(td))]\n",
        "  #extrating the years of release for top 100 from each page \n",
        "  year_R=[td[i].select('div.clamp-details span')[0].text for i in range(len(td))]\n",
        "  #extracting Reviews of release for top 100 from each page \n",
        "  reviews=[td[i].select('a.metascore_anchor div')[2].text for i in range(len(td))]\n",
        "  #extracting the summary of the top 100 movies from each page \n",
        "  summary=[td[i].select('div.summary')[0].text for i in range(len(td))]\n",
        "  #extracting href\n",
        "  ref1=[]\n",
        "  for j in range(len(td)):\n",
        "    v1=str(td[j].find('a'))\n",
        "    v=str(td[j].find('a')).find('/')\n",
        "    v2=str(td[j].find('a')).find('/critic')\n",
        "    ref=[v1[k] for k in range(v,v2+1)]\n",
        "    ref=''.join(ref)\n",
        "    ref1.append(ref)\n",
        "  \n",
        "    \n",
        "  print(f'page is {i+1}')\n",
        "  t_names.append(M_names)\n",
        "  t_year.append(year_R)\n",
        "  t_reviews.append(reviews)\n",
        "  t_summary.append(summary)\n",
        "  t_ref.append(ref1)\n",
        "  \n",
        "\n",
        "#print(soup.prettify())"
      ],
      "execution_count": null,
      "outputs": [
        {
          "output_type": "stream",
          "name": "stdout",
          "text": [
            "page is 1\n",
            "page is 2\n",
            "page is 3\n",
            "page is 4\n",
            "page is 5\n"
          ]
        }
      ]
    },
    {
      "cell_type": "code",
      "metadata": {
        "id": "PJgYY1DvHgvC"
      },
      "source": [
        "t_href=[]\n",
        "for i in t_ref:\n",
        "  for j in i:\n",
        "    t_href.append(' '.join(j.split()))"
      ],
      "execution_count": null,
      "outputs": []
    },
    {
      "cell_type": "code",
      "metadata": {
        "id": "opngkrWDHYo3"
      },
      "source": [
        "t_href"
      ],
      "execution_count": null,
      "outputs": []
    },
    {
      "cell_type": "code",
      "metadata": {
        "id": "FhjBWH4LHn3D"
      },
      "source": [
        "#flatting the summary data \n",
        "kilo=[]\n",
        "for i in t_summary:\n",
        "  for j in i:\n",
        "    kilo.append(' '.join(j.split()))"
      ],
      "execution_count": null,
      "outputs": []
    },
    {
      "cell_type": "code",
      "metadata": {
        "id": "mOfpbqclHrTX"
      },
      "source": [
        "kilo"
      ],
      "execution_count": null,
      "outputs": []
    },
    {
      "cell_type": "code",
      "metadata": {
        "id": "6pze-IumHxGm"
      },
      "source": [
        "#Flattening the 5 pages movie list to single list\n",
        "t_names=np.array(t_names).flatten()\n",
        "t_year=np.array(t_year).flatten()\n",
        "t_reviews=np.array(t_reviews).flatten()"
      ],
      "execution_count": null,
      "outputs": []
    },
    {
      "cell_type": "code",
      "metadata": {
        "id": "ZztwjLvWo3_Y"
      },
      "source": [
        "print(f'{len(t_names)} {len(t_year)} {len(kilo)} {len(t_reviews)} {len(t_href)}')\n",
        "#print(t_year)"
      ],
      "execution_count": null,
      "outputs": []
    },
    {
      "cell_type": "code",
      "source": [
        "i='/movie/medium-cool/'\n",
        "URL = \"https://www.metacritic.com\"+i+'details'\n",
        "user_agent = {'User-agent': 'Safari/14.1.2'}\n",
        "  #time.sleep(4)\n",
        "r = requests.get(URL,headers = user_agent)\n",
        "soup = BeautifulSoup(r.content, 'html.parser')\n",
        "  #print(soup.prettify())\n",
        "coact=''\n",
        "td=soup.findAll('table',class_='credits')\n",
        "for i in range(1,len(td[2].select('tr'))):\n",
        "      act1=(td[2].select('tr')[i].text).split('\\n')[2]\n",
        "      coact=act1+'/'+coact\n",
        "print(''.join(coact.split()))\n",
        "#print(td[0].select('a')[12].text)\n",
        "  #for i in range(2,len(td[0].select('a'))):\n",
        "#act1=(td[0].select('a')[i].text)\n",
        "#coact=coact+'/'+act1\n",
        "#actors.append(coact)'''"
      ],
      "metadata": {
        "colab": {
          "base_uri": "https://localhost:8080/"
        },
        "id": "Lb7ef-byoEWx",
        "outputId": "1df6334d-3a6a-4a2f-9a5d-6c6fcaff4755"
      },
      "execution_count": null,
      "outputs": [
        {
          "output_type": "stream",
          "name": "stdout",
          "text": [
            "WilliamSickingen/VernaBloom/SidMcCoy/RobertForster/PeterBonerz/MariannaHill/HaroldBlankenship/ChristineBergstrom/CharlesGeary/BobMcAndrew/\n"
          ]
        }
      ]
    },
    {
      "cell_type": "code",
      "metadata": {
        "id": "wi7pJ0IrlEUI"
      },
      "source": [
        "#To get more infor like genre and actors details\n",
        "actors=[]\n",
        "for i in t_href:\n",
        "\n",
        "  URL = \"https://www.metacritic.com\"+i+'details'\n",
        "  user_agent = {'User-agent': 'Safari/14.1.2'}\n",
        "  #time.sleep(4)\n",
        "  r = requests.get(URL,headers = user_agent)\n",
        "  soup = BeautifulSoup(r.content, 'html.parser')\n",
        "  #print(soup.prettify())\n",
        "  coact=''\n",
        "  td=soup.findAll('table',class_='credits')\n",
        "  if(len(td)>2):\n",
        "    for i in range(1,len(td[2].select('tr'))):\n",
        "      act1=(td[2].select('tr')[i].text).split('\\n')[2]\n",
        "      coact=act1+'/'+coact\n",
        "    actors.append(''.join(coact.split()))\n",
        "  else:\n",
        "    actors.append('NoCast')\n",
        "  #except:\n",
        "  # print(soup.prettify())"
      ],
      "execution_count": null,
      "outputs": []
    },
    {
      "cell_type": "code",
      "metadata": {
        "id": "sVUYOFwdXD2x",
        "colab": {
          "base_uri": "https://localhost:8080/",
          "height": 37
        },
        "outputId": "209f912d-9e28-425b-f038-f86fb032eed8"
      },
      "source": [
        "actors[0]"
      ],
      "execution_count": null,
      "outputs": [
        {
          "output_type": "execute_result",
          "data": {
            "application/vnd.google.colaboratory.intrinsic+json": {
              "type": "string"
            },
            "text/plain": [
              "'OrsonWelles/JosephCotten/'"
            ]
          },
          "metadata": {},
          "execution_count": 71
        }
      ]
    },
    {
      "cell_type": "code",
      "metadata": {
        "id": "LmUmGT4nUM7e"
      },
      "source": [
        "\n",
        "i=\"/movie/notorious-1946/\"\n",
        "URL ='https://www.metacritic.com/movie/notorious-1946/'\n",
        "user_agent = {'User-agent':'Safari/14.1.2'}\n",
        "  #time.sleep(4)\n",
        "r = requests.get(URL,headers = user_agent)\n",
        "soup = BeautifulSoup(r.content, 'html.parser')\n",
        "td=soup.findAll('div',class_='fxdcol gu6 lh14 pad_btm1')\n",
        "td#[0]#.select('a')[2].text\n",
        "  "
      ],
      "execution_count": null,
      "outputs": []
    },
    {
      "cell_type": "code",
      "metadata": {
        "id": "USk6cDjIlEcy"
      },
      "source": [
        "len(actors)"
      ],
      "execution_count": null,
      "outputs": []
    },
    {
      "cell_type": "code",
      "metadata": {
        "id": "MmVILh6JIU-w",
        "colab": {
          "base_uri": "https://localhost:8080/"
        },
        "outputId": "6bf59a0a-a20f-413a-9c04-710177e0e9c9"
      },
      "source": [
        "except1=['amazing-grace-1972',\n",
        "'we-were-here',\n",
        "'sherpa',\n",
        "'one-more-time-with-feeling',\n",
        "'apocalypse-now-final-cut',\n",
        "'the-look-of-silence',\n",
        "'tower',\n",
        "'time-2020',\n",
        "'procession',\n",
        "'ex-libris-new-york-public-library',\n",
        "'they-shall-not-grow-old',\n",
        "'wojnarowicz',\n",
        "'paths-of-the-soul',\n",
        "'my-perestroika',\n",
        "'big-men',\n",
        "'minding-the-gap',\n",
        "'for-sama',\n",
        "'uncertain',\n",
        "'national-gallery',\n",
        "'gunda',\n",
        "'western',\n",
        "'the-artist',\n",
        "'dead-souls',\n",
        "'the-arbor',\n",
        "'democrats',\n",
        "'crime-+-punishment',\n",
        "'city-hall',\n",
        "'manuscripts-dont-burn',\n",
        "'in-transit',\n",
        "'45365',\n",
        "'so-long-my-son',\n",
        "'newtown',\n",
        "'i-travel-because-i-have-to-i-come-back-because-i-love-you',\n",
        "'of-men-and-war',\n",
        "'to-be-and-to-have',\n",
        "'can-you-bring-it-bill-t-jones-and-d-man-in-the-waters',\n",
        "'gideons-army',\n",
        "'particle-fever',\n",
        "'rewind',\n",
        "'gregory-crewdson-brief-encounters']\n",
        "exception=[]\n",
        "for i in except1:\n",
        "    exception.append('/movie/'+i+'/')\n",
        "\n",
        "print(exception)"
      ],
      "execution_count": null,
      "outputs": [
        {
          "output_type": "stream",
          "name": "stdout",
          "text": [
            "['/movie/amazing-grace-1972/', '/movie/we-were-here/', '/movie/sherpa/', '/movie/one-more-time-with-feeling/', '/movie/apocalypse-now-final-cut/', '/movie/the-look-of-silence/', '/movie/tower/', '/movie/time-2020/', '/movie/procession/', '/movie/ex-libris-new-york-public-library/', '/movie/they-shall-not-grow-old/', '/movie/wojnarowicz/', '/movie/paths-of-the-soul/', '/movie/my-perestroika/', '/movie/big-men/', '/movie/minding-the-gap/', '/movie/for-sama/', '/movie/uncertain/', '/movie/national-gallery/', '/movie/gunda/', '/movie/western/', '/movie/the-artist/', '/movie/dead-souls/', '/movie/the-arbor/', '/movie/democrats/', '/movie/crime-+-punishment/', '/movie/city-hall/', '/movie/manuscripts-dont-burn/', '/movie/in-transit/', '/movie/45365/', '/movie/so-long-my-son/', '/movie/newtown/', '/movie/i-travel-because-i-have-to-i-come-back-because-i-love-you/', '/movie/of-men-and-war/', '/movie/to-be-and-to-have/', '/movie/can-you-bring-it-bill-t-jones-and-d-man-in-the-waters/', '/movie/gideons-army/', '/movie/particle-fever/', '/movie/rewind/', '/movie/gregory-crewdson-brief-encounters/']\n"
          ]
        }
      ]
    },
    {
      "cell_type": "code",
      "metadata": {
        "id": "StIrIjIjCMuQ"
      },
      "source": [
        "cast=[]\n",
        "for i in t_href:\n",
        "  if(i not in exception):\n",
        "    URL = \"https://www.metacritic.com\"+i+'details'\n",
        "    user_agent = {'User-agent': 'Safari/14.1.2'}\n",
        "    #time.sleep(4)\n",
        "    ki=str(i).split('/')[2]\n",
        "    r = requests.get(URL,headers = user_agent)\n",
        "    soup = BeautifulSoup(r.content, 'html.parser')\n",
        "    #print(soup.prettify())\n",
        "    td=soup.findAll('table',class_='credits')\n",
        "    \n",
        "    coact='';c=0\n",
        "    \n",
        "    for j in range(1,len(td[3].select('tr'))):\n",
        "      act1=str((td[3].select('tr')[j].text).split()[0])+'-'+str((td[3].select('tr')[j].text).split()[1])\n",
        "      coact=coact+'/'+act1\n",
        "    cast.append(coact)\n",
        "  else:\n",
        "    cast.append('No Cast')\n",
        "\n",
        "#cast.append(len(td[3].select('tr')))\n",
        "cast\n"
      ],
      "execution_count": null,
      "outputs": []
    },
    {
      "cell_type": "code",
      "metadata": {
        "id": "JxSd47Q9m3O6"
      },
      "source": [
        "t_cast=[]\n",
        "for i in range(len(actors)):\n",
        "  t_cast.append(cast[i])\n",
        "t_cast"
      ],
      "execution_count": null,
      "outputs": []
    },
    {
      "cell_type": "code",
      "metadata": {
        "id": "bh7gaHtif-lQ"
      },
      "source": [
        "genexcept1=['/movie/vertigo/',\n",
        " '/movie/singin-in-the-rain/',\n",
        " '/movie/pinocchio-1940/',\n",
        " '/movie/gone-with-the-wind/',\n",
        " '/movie/dumbo-1941/',\n",
        " '/movie/roma/',\n",
        " '/movie/summer-of-soul-or-when-the-revolution-could-not-be-televised/',\n",
        " '/movie/parasite/',\n",
        " '/movie/fantasia/',\n",
        " '/movie/beauty-and-the-beast-1991/',\n",
        " '/movie/i-am-not-your-negro/',\n",
        " '/movie/snow-white-and-the-seven-dwarfs/',\n",
        " '/movie/the-irishman/',\n",
        " '/movie/amazing-grace-1972/',\n",
        " '/movie/inside-out-2015/',\n",
        " '/movie/we-were-here/',\n",
        " '/movie/faces-places/',\n",
        " '/movie/carlos/',\n",
        " '/movie/marriage-story/',\n",
        " '/movie/nomadland/',\n",
        " '/movie/the-magnificent-ambersons/',\n",
        " '/movie/inside-llewyn-davis/',\n",
        " '/movie/sherpa/',\n",
        " '/movie/sita-sings-the-blues/',\n",
        " '/movie/brothers-keeper/',\n",
        " '/movie/sankofa/',\n",
        " '/movie/one-more-time-with-feeling/',\n",
        " '/movie/35-shots-of-rum/',\n",
        " '/movie/apocalypse-now-final-cut/',\n",
        " '/movie/maborosi/',\n",
        " '/movie/never-rarely-sometimes-always/',\n",
        " '/movie/werckmeister-harmonies/',\n",
        " '/movie/the-look-of-silence/',\n",
        " '/movie/tower/',\n",
        " '/movie/the-rider/',\n",
        " '/movie/moolaade/',\n",
        " '/movie/after-life/',\n",
        " '/movie/little-women-2019/',\n",
        " '/movie/the-act-of-killing/',\n",
        " '/movie/jafar-panahis-taxi/',\n",
        " '/movie/uncut-gems/',\n",
        " '/movie/ex-libris-new-york-public-library/',\n",
        " '/movie/they-shall-not-grow-old/',\n",
        " '/movie/the-favourite/',\n",
        " '/movie/bambi/',\n",
        " '/movie/no-country-for-old-men/',\n",
        " '/movie/nostalgia-for-the-light/',\n",
        " '/movie/gett-the-trial-of-viviane-amsalem/',\n",
        " '/movie/i-called-him-morgan/',\n",
        " '/movie/paths-of-the-soul/',\n",
        " '/movie/its-such-a-beautiful-day-2012/',\n",
        " '/movie/my-perestroika/',\n",
        " '/movie/this-is-not-a-film/',\n",
        " '/movie/licorice-pizza/',\n",
        " '/movie/finding-nemo/',\n",
        " '/movie/king-kong-1933/',\n",
        " '/movie/hard-to-be-a-god/',\n",
        " '/movie/big-men/',\n",
        " '/movie/american-splendor/',\n",
        " '/movie/persepolis/',\n",
        " '/movie/drive-my-car/',\n",
        " '/movie/for-sama/',\n",
        " '/movie/the-tragedy-of-macbeth/',\n",
        " '/movie/still-walking/',\n",
        " '/movie/gangs-of-wasseypur/',\n",
        " '/movie/minari/',\n",
        " '/movie/uncertain/',\n",
        " '/movie/two-days-one-night/',\n",
        " '/movie/national-gallery/',\n",
        " '/movie/eighth-grade/',\n",
        " '/movie/no-end-in-sight/',\n",
        " '/movie/gunda/',\n",
        " '/movie/western/',\n",
        " '/movie/the-artist/',\n",
        " '/movie/dead-souls/',\n",
        " '/movie/the-power-of-the-dog/',\n",
        " '/movie/the-arbor/',\n",
        " '/movie/long-days-journey-into-night/',\n",
        " '/movie/democrats/',\n",
        " '/movie/the-lion-king/',\n",
        " '/movie/the-little-mermaid/',\n",
        " '/movie/tulpan/',\n",
        " '/movie/manuscripts-dont-burn/',\n",
        " '/movie/in-transit/',\n",
        " '/movie/things-to-come/',\n",
        " '/movie/winter-sleep/',\n",
        " '/movie/a-star-is-born/',\n",
        " '/movie/the-father/',\n",
        " '/movie/chicken-run/',\n",
        " '/movie/hell-or-high-water/',\n",
        " '/movie/up/',\n",
        " '/movie/the-lost-daughter/',\n",
        " '/movie/45365/',\n",
        " '/movie/tootsie/',\n",
        " '/movie/marooned-in-iraq/',\n",
        " '/movie/aquarius/',\n",
        " '/movie/anomalisa/',\n",
        " '/movie/toy-story-2/',\n",
        " '/movie/black-panther/',\n",
        " '/movie/lenfant/',\n",
        " '/movie/newtown/',\n",
        " '/movie/poetry/',\n",
        " '/movie/restless-creature-wendy-whelan/',\n",
        " '/movie/wolfwalkers/',\n",
        " '/movie/the-body-remembers-when-the-world-broke-open/',\n",
        " '/movie/the-missing-picture/',\n",
        " '/movie/i-travel-because-i-have-to-i-come-back-because-i-love-you/',\n",
        " '/movie/scarface-1932/',\n",
        " '/movie/of-men-and-war/',\n",
        " '/movie/to-be-and-to-have/',\n",
        " '/movie/can-you-bring-it-bill-t-jones-and-d-man-in-the-waters/',\n",
        " '/movie/fire-at-sea/',\n",
        " '/movie/f-for-fake/',\n",
        " '/movie/about-elly/',\n",
        " '/movie/ma-raineys-black-bottom/',\n",
        " '/movie/if-beale-street-could-talk/',\n",
        " '/movie/wallace-gromit-the-curse-of-the-were-rabbit/',\n",
        " '/movie/wheel-of-fortune-and-fantasy/',\n",
        " '/movie/gideons-army/',\n",
        " '/movie/fateless/',\n",
        " '/movie/uncle-boonmee-who-can-recall-his-past-lives/',\n",
        " '/movie/cemetery-of-splendor/',\n",
        " '/movie/the-kid-with-a-bike/',\n",
        " '/movie/spider-man-into-the-spider-verse/',\n",
        " '/movie/particle-fever/',\n",
        " '/movie/microcosmos/',\n",
        " '/movie/murderball/',\n",
        " '/movie/life-itself/',\n",
        " '/movie/rewind/',\n",
        " '/movie/gregory-crewdson-brief-encounters/',\n",
        " '/movie/the-autobiography-of-nicolae-ceausescu/'];genexcept=[]\n",
        "for i in t_href:\n",
        "  if(i not in genexcept1):\n",
        "    genexcept.append(i)\n",
        "\n"
      ],
      "execution_count": null,
      "outputs": []
    },
    {
      "cell_type": "code",
      "metadata": {
        "id": "jALa1sViM2NW"
      },
      "source": [
        "genre=[]\n",
        "for i in t_href:\n",
        "  if(i in genexcept):\n",
        "    URL = \"https://www.metacritic.com\"+i\n",
        "    user_agent = {'User-agent': 'Safari/14.1.2'}\n",
        "        #time.sleep(4)\n",
        "    #ki=str(i).split('/')[2]\n",
        "    r = requests.get(URL,headers = user_agent)\n",
        "    soup = BeautifulSoup(r.content, 'html.parser')\n",
        "        #print(soup.prettify())td=soup.findAll('table',class_='credits')\n",
        "    td=soup.findAll('div',class_='details_section')\n",
        "    \n",
        "    genre.append(str(td[3].select('span')[3].text).split('\\n')[1])\n",
        "    \n",
        "  if(i not in genexcept):\n",
        "    #print(i)\n",
        "    \n",
        "      #genre.append(str(td[4].select('span')[3].text).split('\\n')[1])\n",
        "    genre.append(str(td[3].select('span')[3].text).split(\"\\n\")[1])\n",
        "     \n",
        "\n",
        "\n",
        "genre"
      ],
      "execution_count": null,
      "outputs": []
    },
    {
      "cell_type": "code",
      "metadata": {
        "id": "DD4_1p4hlFD4"
      },
      "source": [
        "movie_dict={}\n",
        "movie_dict['Movie_name']=t_names\n",
        "movie_dict['Release_year']=t_year\n",
        "movie_dict['Reviews']=t_reviews\n",
        "movie_dict['Summary']=kilo\n",
        "movie_dict['Main_lead']=actors\n",
        "movie_dict['Cast']=cast\n",
        "movie_dict['Genere']=genre"
      ],
      "execution_count": null,
      "outputs": []
    },
    {
      "cell_type": "code",
      "metadata": {
        "id": "LEf2VEuSoFTb"
      },
      "source": [
        "print(f'{len(t_names)} {len(t_year)} {len(t_reviews)} {len(kilo)} {len(t_cast)} {len(genre)}')"
      ],
      "execution_count": null,
      "outputs": []
    },
    {
      "cell_type": "code",
      "metadata": {
        "id": "O-U5KuhKpR5m"
      },
      "source": [
        "import pandas as pd\n",
        "movie_data=pd.DataFrame(movie_dict)\n",
        "movie_data.to_csv(r'/content/movie.csv',index=None)"
      ],
      "execution_count": null,
      "outputs": []
    },
    {
      "cell_type": "code",
      "metadata": {
        "cellView": "form",
        "id": "KdfK_TQalFdO"
      },
      "source": [
        "#@title Main program asking users the 3 choice (1.movie 2.people 3.comparision)\n",
        "\n",
        "\n",
        "\n",
        "\n",
        "\n",
        "\n",
        "\n"
      ],
      "execution_count": null,
      "outputs": []
    },
    {
      "cell_type": "code",
      "source": [
        "import pandas as pd\n",
        "data=pd.read_csv('/content/movie-2.csv')\n",
        "data.head()"
      ],
      "metadata": {
        "id": "VEQWIiQjyhB7"
      },
      "execution_count": null,
      "outputs": []
    },
    {
      "cell_type": "code",
      "source": [
        "import numpy as np\n",
        "from nltk import flatten\n",
        "import math"
      ],
      "metadata": {
        "id": "m8WEbhC-7IqX"
      },
      "execution_count": null,
      "outputs": []
    },
    {
      "cell_type": "code",
      "source": [
        ""
      ],
      "metadata": {
        "id": "ZkkkuK4OGBt7"
      },
      "execution_count": null,
      "outputs": []
    },
    {
      "cell_type": "code",
      "source": [
        "#work on this before submitting\n",
        "def compare(data):\n",
        "  print('Who do you want to check?')\n",
        "  name=''.join((input('Input: ')).split()).lower()\n",
        "  name1=''.join((input('Input: ')).split()).lower()\n",
        "  cos={};list1=[];inner_list=[];actor_list=[];gen_list=[]\n",
        "  mn=str(data['Movie_name'].to_string(index=False)).split('\\n')\n",
        "  for i in mn:\n",
        "    inner_list.append((' '.join(i.split())))\n",
        "  lead=str(data['Main_lead'].to_string(index=False)).split('\\n')\n",
        "  for i in lead:\n",
        "    #actor_list.append(' '.join(i.split()))\n",
        "    act=(i.split('/'));a=[]\n",
        "    for j in act:\n",
        "      a.append(j.strip())\n",
        "    a=[i.lower() for i in a if i.strip()]\n",
        "    #print(a)\n",
        "    actor_list.append(a)\n",
        "  #print(act)\n",
        "  gen=data['Genere']\n",
        "  for i in gen:\n",
        "    gen_list.append(i.split())\n",
        "  #For creating a dict to map actors with the genre they acted\n",
        "  mo={};c=0\n",
        "  for i in actor_list:\n",
        "    for j in i:\n",
        "      if(j in mo):\n",
        "        mo[j].append(gen_list[c])\n",
        "      else:\n",
        "        mo[j]=[gen_list[c]]\n",
        "    c=c+1\n",
        "  #For creatiing a dict to map actors with the movie m=names they acted\n",
        "  moo={};c=0\n",
        "  for i in actor_list:\n",
        "    for j in i:\n",
        "      if(j in moo):\n",
        "        kilo=[inner_list[c]]\n",
        "        #print(type(kilo))\n",
        "        moo[j].append(kilo)\n",
        "      else:\n",
        "        moo[j]=[inner_list[c]]\n",
        "     \n",
        "    #break\n",
        "    c+=1\n",
        "#-----------------------------------------------------------------    \n",
        "  s=flatten(moo[name]);S=flatten(moo[name1])\n",
        "#------------------------------------------------------------------\n",
        "  print(f'{name} has acted in ',end='');cosim1={};cosim2={}\n",
        "  for i in s:\n",
        "    print(i,end=',')\n",
        "  k=mo[name]\n",
        "  k=flatten(k);cl=[];clc=[]\n",
        "  \n",
        "  for i in k:\n",
        "    cl.append(i.split(',')[0])\n",
        "  k1=list(set(cl))\n",
        "  print('\\n')\n",
        "  for i in k1:\n",
        "    clc.append(cl.count(i))\n",
        "  print('most often played genres are',end='')\n",
        "  for i in range(len(k1)):\n",
        "  \n",
        "    print(f' {k1[i]}:{clc[i]}',end=' ')\n",
        "    cosim1[k1[i]]=clc[i]\n",
        "\n",
        "  print('\\n')\n",
        "  #==========#\n",
        "  print(f'{name1} has acted in ',end='')\n",
        "  for i in S:\n",
        "    print(i,end=',')\n",
        "  k2=mo[name1]\n",
        "  #print(f'K={k2}')\n",
        "  k=flatten(k2);cl=[];clc=[]\n",
        "  print('\\n')\n",
        "  \n",
        "  for i in k:\n",
        "    cl.append(i.split(',')[0])\n",
        "  k11=list(set(cl))\n",
        "  print('\\n')\n",
        "  for i in k11:\n",
        "    clc.append(cl.count(i))\n",
        "  print('most often played genres are',end='')\n",
        "  for i in range(len(k11)):\n",
        "    print(f' {k11[i]}:{clc[i]}',end=' ')\n",
        "    cosim2[k11[i]]=clc[i]\n",
        "#---------------------------------Getting cosine similarity-------------------------------------#\n",
        "  print('\\n');cs1=[];cs11=[]\n",
        "  non_similar_cosim1=set(cosim2).difference(set(cosim1))\n",
        "  non_similar_cosim2=set(cosim1).difference(set(cosim2))\n",
        "  if(len(non_similar_cosim1)>0):\n",
        "    for i in non_similar_cosim1:\n",
        "      cosim1[i]=0\n",
        "  if(len(non_similar_cosim2)>0):\n",
        "    for i in non_similar_cosim2:\n",
        "      cosim2[i]=0\n",
        "  for i in cosim1:\n",
        "    cs1.append(cosim2[i])\n",
        "    cs11.append(cosim1[i])\n",
        "  cos_sim = dot(cs1, cs11)/(norm(cs1)*norm(cs11))\n",
        "#---------------------------------xxxx--------------------------------------#\n",
        "  print('\\n')\n",
        "  print(f'Cos similarity between {name} and {name1} is : {cos_sim} ')\n",
        "compare(data)"
      ],
      "metadata": {
        "colab": {
          "base_uri": "https://localhost:8080/"
        },
        "id": "d0XF47vDy7UL",
        "outputId": "1aea5cbc-c880-40cc-d301-7f7e9085c7c4"
      },
      "execution_count": null,
      "outputs": [
        {
          "output_type": "stream",
          "name": "stdout",
          "text": [
            "Who do you want to check?\n",
            "Input: Joseph Cotten\n",
            "Input: Marlon Brando\n",
            "josephcotten has acted in Citizen Kane,\n",
            "\n",
            "most often played genres are Drama:1  Mystery:1 \n",
            "\n",
            "marlonbrando has acted in The Godfather,Apocalypse Now,Apocalypse Now Redux,On the Waterfront,Listen to Me Marlon,\n",
            "\n",
            "\n",
            "\n",
            "most often played genres are War:2  Documentary:1  Crime:2  Drama:4  Action:2  Thriller:1  Romance:1  Biography:1 \n",
            "\n",
            "\n",
            "\n",
            "Cos similarity between josephcotten and marlonbrando is : 0.4999999999999999 \n"
          ]
        }
      ]
    },
    {
      "cell_type": "code",
      "metadata": {
        "id": "iIWHlAnYlFVH"
      },
      "source": [
        "orsonwelles;Joseph Cotten;Marlon Brando"
      ],
      "execution_count": null,
      "outputs": []
    },
    {
      "cell_type": "code",
      "metadata": {
        "id": "-NVCUckSy8Ww"
      },
      "source": [
        "\n",
        "def movie(data):\n",
        "  print('What movie do you want to check?')\n",
        "  name=input('Input: ')\n",
        "  name1=data[data['Movie_name'].str.contains(name,case=False)]['Movie_name']\n",
        "  sample=data[data['Movie_name'].str.contains(name,case=False)]['Main_lead']\n",
        "  sample1=data[data['Movie_name'].str.contains(name,case=False)]['Cast']\n",
        "  sample2=data[data['Movie_name'].str.contains(name,case=False)]['Genere']\n",
        "  \n",
        "\n",
        "  print(f'The cast of the movie {name1.to_string(index=False)} includes ',end=\"\")\n",
        "  list1=sample.to_string(index=False)+sample1.to_string(index=False)\n",
        "\n",
        "  for i in list1.split('/'):\n",
        "    print(i,end=\" \")\n",
        "\n",
        "def people():\n",
        "  print('Who do you want to check?')\n",
        "  name=''.join((input('Input: ')).split()).lower()\n",
        "  cos={};list1=[];inner_list=[];actor_list=[];gen_list=[]\n",
        "  mn=str(data['Movie_name'].to_string(index=False)).split('\\n')\n",
        "  for i in mn:\n",
        "    inner_list.append((' '.join(i.split())))\n",
        "  lead=str(data['Main_lead'].to_string(index=False)).split('\\n')\n",
        "  for i in lead:\n",
        "    #actor_list.append(' '.join(i.split()))\n",
        "    act=(i.split('/'));a=[]\n",
        "    for j in act:\n",
        "      a.append(j.strip())\n",
        "    a=[i.lower() for i in a if i.strip()]\n",
        "    #print(a)\n",
        "    actor_list.append(a)\n",
        "  #print(act)\n",
        "  gen=data['Genere']\n",
        "  for i in gen:\n",
        "    gen_list.append(i.split())\n",
        "  #For creating a dict to map actors with the genre they acted\n",
        "  mo={};c=0\n",
        "  for i in actor_list:\n",
        "    for j in i:\n",
        "      if(j in mo):\n",
        "        mo[j].append(gen_list[c])\n",
        "      else:\n",
        "        mo[j]=[gen_list[c]]\n",
        "    c=c+1\n",
        "  #For creatiing a dict to map actors with the movie m=names they acted\n",
        "  moo={};c=0\n",
        "  for i in actor_list:\n",
        "    for j in i:\n",
        "      \n",
        "      if(j in moo):\n",
        "        kilo=[inner_list[c]]\n",
        "        #print(type(kilo))\n",
        "        moo[j].append(kilo)\n",
        "      else:\n",
        "        moo[j]=[inner_list[c]]\n",
        "     \n",
        "    #break\n",
        "    c+=1\n",
        "  s=flatten(moo[name])\n",
        "  print(f'{name} has acted in ',end='')\n",
        "  for i in s:\n",
        "    print(i,end=',')\n",
        "  k=mo[name]\n",
        "  k=flatten(k);cl=[];clc=[]\n",
        "  for i in k:\n",
        "    cl.append(i.split(',')[0])\n",
        "  k1=list(set(cl))\n",
        "  print('\\n')\n",
        "  for i in k1:\n",
        "    clc.append(cl.count(i))\n",
        "  print('most often played genres are',end='')\n",
        "  for i in range(len(k1)):\n",
        "  \n",
        "    print(f' {k1[i]}:{clc[i]}',end=' ')\n",
        "  \n",
        "def compare():\n",
        "  print('Who do you want to check?')\n",
        "  name=''.join((input('Input: ')).split()).lower()\n",
        "  name1=''.join((input('Input: ')).split()).lower()\n",
        "  cos={};list1=[];inner_list=[];actor_list=[];gen_list=[]\n",
        "  mn=str(data['Movie_name'].to_string(index=False)).split('\\n')\n",
        "  for i in mn:\n",
        "    inner_list.append((' '.join(i.split())))\n",
        "  lead=str(data['Main_lead'].to_string(index=False)).split('\\n')\n",
        "  for i in lead:\n",
        "    #actor_list.append(' '.join(i.split()))\n",
        "    act=(i.split('/'));a=[]\n",
        "    for j in act:\n",
        "      a.append(j.strip())\n",
        "    a=[i.lower() for i in a if i.strip()]\n",
        "    #print(a)\n",
        "    actor_list.append(a)\n",
        "  #print(act)\n",
        "  gen=data['Genere']\n",
        "  for i in gen:\n",
        "    gen_list.append(i.split())\n",
        "  #For creating a dict to map actors with the genre they acted\n",
        "  mo={};c=0\n",
        "  for i in actor_list:\n",
        "    for j in i:\n",
        "      if(j in mo):\n",
        "        mo[j].append(gen_list[c])\n",
        "      else:\n",
        "        mo[j]=[gen_list[c]]\n",
        "    c=c+1\n",
        "  #For creatiing a dict to map actors with the movie m=names they acted\n",
        "  moo={};c=0\n",
        "  for i in actor_list:\n",
        "    for j in i:\n",
        "      if(j in moo):\n",
        "        kilo=[inner_list[c]]\n",
        "        #print(type(kilo))\n",
        "        moo[j].append(kilo)\n",
        "      else:\n",
        "        moo[j]=[inner_list[c]]\n",
        "     \n",
        "    #break\n",
        "    c+=1\n",
        "#-----------------------------------------------------------------    \n",
        "  s=flatten(moo[name]);S=flatten(moo[name1])\n",
        "#------------------------------------------------------------------\n",
        "  print(f'{name} has acted in ',end='');cosim1={};cosim2={}\n",
        "  for i in s:\n",
        "    print(i,end=',')\n",
        "  k=mo[name]\n",
        "  k=flatten(k);cl=[];clc=[]\n",
        "  \n",
        "  for i in k:\n",
        "    cl.append(i.split(',')[0])\n",
        "  k1=list(set(cl))\n",
        "  print('\\n')\n",
        "  for i in k1:\n",
        "    clc.append(cl.count(i))\n",
        "  print('most often played genres are',end='')\n",
        "  for i in range(len(k1)):\n",
        "  \n",
        "    print(f' {k1[i]}:{clc[i]}',end=' ')\n",
        "    cosim1[k1[i]]=clc[i]\n",
        "\n",
        "  print('\\n')\n",
        "  #==========#\n",
        "  print(f'{name1} has acted in ',end='')\n",
        "  for i in S:\n",
        "    print(i,end=',')\n",
        "  k2=mo[name1]\n",
        "  #print(f'K={k2}')\n",
        "  k=flatten(k2);cl=[];clc=[]\n",
        "  print('\\n')\n",
        "  \n",
        "  for i in k:\n",
        "    cl.append(i.split(',')[0])\n",
        "  k11=list(set(cl))\n",
        "  print('\\n')\n",
        "  for i in k11:\n",
        "    clc.append(cl.count(i))\n",
        "  print('most often played genres are',end='')\n",
        "  for i in range(len(k11)):\n",
        "    print(f' {k11[i]}:{clc[i]}',end=' ')\n",
        "    cosim2[k11[i]]=clc[i]\n",
        "#---------------------------------Getting cosine similarity-------------------------------------#\n",
        "  print('\\n');cs1=[];cs11=[]\n",
        "  non_similar_cosim1=set(cosim2).difference(set(cosim1))\n",
        "  non_similar_cosim2=set(cosim1).difference(set(cosim2))\n",
        "  if(len(non_similar_cosim1)>0):\n",
        "    for i in non_similar_cosim1:\n",
        "      cosim1[i]=0\n",
        "  if(len(non_similar_cosim2)>0):\n",
        "    for i in non_similar_cosim2:\n",
        "      cosim2[i]=0\n",
        "  for i in cosim1:\n",
        "    cs1.append(cosim2[i])\n",
        "    cs11.append(cosim1[i])\n",
        "  cos_sim = dot(cs1, cs11)/(norm(cs1)*norm(cs11))\n",
        "#---------------------------------xxxx--------------------------------------#\n",
        "  print('\\n')\n",
        "  print(f'Based on that, they have a cosine similarity score of {cos_sim} ')\n",
        "\n"
      ],
      "execution_count": null,
      "outputs": []
    },
    {
      "cell_type": "code",
      "source": [
        "#@title Main Code\n"
      ],
      "metadata": {
        "cellView": "form",
        "id": "f5x2hjb2IYcA"
      },
      "execution_count": null,
      "outputs": []
    },
    {
      "cell_type": "code",
      "metadata": {
        "id": "M8NMTtIetJsA",
        "colab": {
          "base_uri": "https://localhost:8080/"
        },
        "outputId": "1e197a48-4923-40d3-a48f-fcc9b8504602"
      },
      "source": [
        "print('What do you want to check on Metacrtitics?')\n",
        "print('Please choose ‘movie’, ‘people’, or ‘comparison’)')\n",
        "choice=input('Input: ').casefold()\n",
        "data=pd.read_csv('/content/movie-2.csv')\n",
        "if(choice=='movie'):\n",
        "  movie(data)\n",
        "elif(choice=='people'):\n",
        "  people()\n",
        "else:\n",
        "  compare()"
      ],
      "execution_count": null,
      "outputs": [
        {
          "output_type": "stream",
          "name": "stdout",
          "text": [
            "What do you want to check on Metacrtitics?\n",
            "Please choose ‘movie’, ‘people’, or ‘comparison’)\n",
            "Input: Orson Welles\n",
            "Who do you want to check?\n",
            "Input: Orson Welles\n",
            "Input: Marlon Brando\n",
            "orsonwelles has acted in Citizen Kane,Touch of Evil,Chimes at Midnight,The Magnificent Ambersons,F for Fake,\n",
            "\n",
            "most often played genres are Comedy:1  War:1  Mystery:2  Crime:2  Film-Noir:1  Drama:5  Action:1  History:1  Thriller:2  Romance:1 \n",
            "\n",
            "marlonbrando has acted in The Godfather,Apocalypse Now,Apocalypse Now Redux,On the Waterfront,Listen to Me Marlon,\n",
            "\n",
            "\n",
            "\n",
            "most often played genres are War:2  Documentary:1  Crime:2  Drama:4  Action:2  Thriller:1  Romance:1  Biography:1 \n",
            "\n",
            "\n",
            "\n",
            "Based on that, they have a cosine similarity score of 0.8357039923266477 \n"
          ]
        }
      ]
    },
    {
      "cell_type": "code",
      "source": [
        ""
      ],
      "metadata": {
        "id": "SrsjrCV4NvJ0"
      },
      "execution_count": null,
      "outputs": []
    },
    {
      "cell_type": "code",
      "source": [
        ""
      ],
      "metadata": {
        "id": "Pr1MqWFMNkEj"
      },
      "execution_count": null,
      "outputs": []
    },
    {
      "cell_type": "code",
      "source": [
        ""
      ],
      "metadata": {
        "id": "yDJg27JXNE92"
      },
      "execution_count": null,
      "outputs": []
    }
  ]
}