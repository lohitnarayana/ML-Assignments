{
  "nbformat": 4,
  "nbformat_minor": 0,
  "metadata": {
    "colab": {
      "name": "cosinesimilarity_Assignment.ipynb",
      "provenance": [],
      "toc_visible": true
    },
    "kernelspec": {
      "display_name": "Python 3",
      "name": "python3"
    },
    "language_info": {
      "name": "python"
    }
  },
  "cells": [
    {
      "cell_type": "markdown",
      "source": [
        "#1. print no.of lines,words,char count and ratio"
      ],
      "metadata": {
        "id": "UrU3k-HEBwIs"
      }
    },
    {
      "cell_type": "code",
      "source": [
        "name=input(\" what is the file name : \") # Give the name of the file we wish to open\n",
        "file_to_open = open(\"/content/\"+name,\"r\") #open the file in read mode\n",
        "lc= 0 #counter for line count\n",
        "wc=0 #counter for word count\n",
        "# Reading from file\n",
        "Cont = file_to_open.read() #read the content of the file\n",
        "CoL = Cont.split(\"\\n\") #split the content where ever there is a new line\n",
        "cc=0 #counter for character count\n",
        "for i in CoL: #check line by line\n",
        "    if i:\n",
        "        linec += 1\n",
        "    i=i.split()\n",
        "    wordc=wordc+len(i)\n",
        "    for j in i:\n",
        "      j=list(j)\n",
        "      charc=charc+len(j)        \n",
        "\n",
        "print(f'No. of lines : {linec}')\n",
        "print(f'No. of words : {wordc}')\n",
        "print(f'No. of characters : {charc}')\n",
        "print(f'Average length of a word : {charc/wordc}')"
      ],
      "metadata": {
        "id": "gAc_PC9cBU9K"
      },
      "execution_count": null,
      "outputs": []
    },
    {
      "cell_type": "markdown",
      "metadata": {
        "id": "uHQ6W0OjYqQF"
      },
      "source": [
        "#2. An example file called movie_reviews.txt  find the cosine similarity"
      ]
    },
    {
      "cell_type": "code",
      "metadata": {
        "colab": {
          "base_uri": "https://localhost:8080/"
        },
        "id": "AmiXX_o0mvqi",
        "outputId": "27ca2dd3-e4d2-4a5b-9adf-316001ed3840"
      },
      "source": [
        "import math\n",
        "# To load the file content and convert it into dictionary \n",
        "filen=input(\"Give the name of the movie reviews file: \")\n",
        "file_to_open = open(\"/content/\"+filen,\"r\") #open the file in read mode\n",
        "Content = file_to_open.read() #read all the content \n",
        "Cont = Cont.split('\\n') \n",
        "keys=[] # Create an empty list for all the keys  \n",
        "values=[] # Create an empty list for all the values \n",
        "for i in Cont:\n",
        "  i=i.split(',')\n",
        "  keys.append(i[0])\n",
        "  values.append(i[1:])\n",
        "movies=dict(zip(keys, values)) #zip the Keys and values together and convert it into a dictionary\n",
        "\n",
        "\n",
        "\n",
        "# To generate the similarities based on the reviewer's reviews\n",
        "# Function to compare similarities between 2 user provided reviewer's\n",
        "\n",
        "def TWO_sim(n1,n2): \n",
        "  #Converting the reviewer 1 data into dictionary\n",
        "  review1=dict(zip(n1[0::2],n1[1::2]))\n",
        "\n",
        "  #Converting the reviewer 2 data into dictionary\n",
        "  review2=dict(zip(n2[0::2],n2[1::2])) \n",
        "  x=0 \n",
        "\n",
        "  #To find the common movie reviews by both the reviewer's\n",
        "  similar_review = set(review1).intersection(set(review2)) \n",
        "\n",
        "  #based on the common movie names we will be finding Euclidean score\n",
        "  for i in similar_review: \n",
        "\n",
        "    # summing the square difference of 2 reviews\n",
        "    x=x+pow(float(review1[i])-float(review2[i]),2) \n",
        "\n",
        "  # Applying root the the overall value to get Euclidean score\n",
        "  x=round(math.sqrt(x),5)\n",
        "  return x\n",
        "\n",
        "\n",
        "#Function to compare similarities between one user provided reviewer's with the rest\n",
        "def ONE_sim(movies,dupli,n1): \n",
        "\n",
        "  #Converting the main reviewer data into dictionary\n",
        "  not11=movies[n1][0::2];not12=movies[n1][1::2];review1=dict(zip(not11,not12)) \n",
        "\n",
        "  #Create an empty list for droping rest the values of the keys from movies dictionary \n",
        "  listdict=[]\n",
        "\n",
        "  #Create an empty list to store the converted dictionary of rest of the reviewer\n",
        "  dictlist=[]\n",
        "\n",
        "  #Create an empty list to store the Euclidean score of all the values\n",
        "  values=[]\n",
        "\n",
        "  for i in dupli:\n",
        "    \n",
        "    #append the data other than the main viewer\n",
        "    listdict.append(movies[i])\n",
        "  for i in listdict:\n",
        "\n",
        "    #Convert the data into dicitionary\n",
        "    n=dict(zip(i[0::2],i[1::2]))\n",
        "\n",
        "    #apend the converted dictionary other than the main viewer \n",
        "    dictlist.append(n) \n",
        "  for i in range(len(dictlist)):\n",
        "    x=0\n",
        "    #To find the common movie reviews by both the reviewer's\n",
        "\n",
        "    similar=set(review1).intersection(set(dictlist[i]))\n",
        "    #based on the common movie names we will be finding Euclidean score\n",
        "    for j in similar:\n",
        "\n",
        "      # summing the square difference of 2 reviews\n",
        "      x=x+pow(float(review1[j])-float(dictlist[i][j]),2)\n",
        "\n",
        "    # Applying root the the overall value to get Euclidean score and appending it to values list\n",
        "    values.append(round(math.sqrt(x),2)) \n",
        "  print('The Similarity Scores are: ')\n",
        "  print(\" \")\n",
        "  for i in range(len(dupli)-1):\n",
        "    print(f\"{n1}    {dupli[i]}    {values[i]}\")\n",
        "\n",
        "while(True):\n",
        "  print(' ')\n",
        "  print(' ')\n",
        "  print('What do you want to do?')\n",
        "  print('Input 1 for similarity between two reviewers')\n",
        "  print('Input 2 for similarity between one reviewer and all others in the database')\n",
        "  print('Input 3 to quit: ')\n",
        "  x=int(input('Your Input : '))\n",
        "  if(x==1):\n",
        "    name1=input('Provide Reviewer1 name: ')\n",
        "    name2=input('Provide Reviewer2 name: ')\n",
        "    print(\" \")\n",
        "    print(f'The similarity score between {name1} and {name2} is: {TWO_sim(movies[name1],movies[name2])}')\n",
        "    \n",
        "  elif(x==2):\n",
        "    dupli=[]\n",
        "    name1=input('Provide Reviewer1 name: ')\n",
        "    print(\" \")\n",
        "    for i in movies:\n",
        "      if(name1!=i):\n",
        "        dupli.append(i)\n",
        "    ONE_sim(movies,dupli,name1)\n",
        "  else:\n",
        "    print('Goodbye!')\n",
        "    break\n"
      ],
      "execution_count": null,
      "outputs": [
        {
          "output_type": "stream",
          "name": "stdout",
          "text": [
            "Give the name of the movie reviews file: movie_reviews.txt\n",
            " \n",
            " \n",
            "What do you want to do?\n",
            "Input 1 for similarity between two reviewers\n",
            "Input 2 for similarity between one reviewer and all others in the database\n",
            "Input 3 to quit: \n",
            "Your Input : 2\n",
            "Provide Reviewer1 name: Peter\n",
            " \n",
            "The Similarity Scores are: \n",
            " \n",
            "Peter    Nancy Pollock    1.87\n",
            "Peter    Jack Holmes    2.87\n",
            "Peter    Mary Doyle    1.58\n",
            "Peter    Doug Redpath    1.8\n",
            "Peter    Jill Brown    1.5\n",
            "Peter    Trevor Chappell    2.74\n",
            " \n",
            " \n",
            "What do you want to do?\n",
            "Input 1 for similarity between two reviewers\n",
            "Input 2 for similarity between one reviewer and all others in the database\n",
            "Input 3 to quit: \n",
            "Your Input : 3\n",
            "Goodbye!\n"
          ]
        }
      ]
    }
  ]
}