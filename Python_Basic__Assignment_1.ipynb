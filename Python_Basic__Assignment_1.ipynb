{
  "nbformat": 4,
  "nbformat_minor": 0,
  "metadata": {
    "colab": {
      "name": "Python_Basic _Assignment 1.ipynb",
      "provenance": [],
      "collapsed_sections": [],
      "toc_visible": true
    },
    "kernelspec": {
      "name": "python3",
      "display_name": "Python 3"
    },
    "language_info": {
      "name": "python"
    }
  },
  "cells": [
    {
      "cell_type": "markdown",
      "metadata": {
        "id": "Ndahr-xjcs9t"
      },
      "source": [
        "# Assignment"
      ]
    },
    {
      "cell_type": "code",
      "metadata": {
        "id": "id-QmKM2dLo6"
      },
      "source": [
        "#1.Positive Generator"
      ],
      "execution_count": null,
      "outputs": []
    },
    {
      "cell_type": "code",
      "metadata": {
        "colab": {
          "base_uri": "https://localhost:8080/"
        },
        "id": "dhPwU2zsdUCp",
        "outputId": "ee9bedc7-efdd-4c90-8097-7ff9b0f00abc"
      },
      "source": [
        "import re\n",
        "def replace_word(n):\n",
        "  \n",
        "  a = re.search(r'\\b(not)\\b', n,re.IGNORECASE) #This finds out the word ('not') starting index to ending index excluding casesensitive\n",
        "  b = re.search(r'\\b(bad)\\b', n,re.IGNORECASE)\n",
        "  n=n.replace(\"\".join(n[a.start():b.end()]),'good') #This replaces the every word between not ... bad with good\n",
        "  print(n)\n",
        "n=input()\n",
        "replace_word(n)\n",
        "\n",
        "    \n"
      ],
      "execution_count": null,
      "outputs": [
        {
          "output_type": "stream",
          "name": "stdout",
          "text": [
            "The Ice cream is not bad!\n",
            "The Ice cream is good!\n"
          ]
        }
      ]
    },
    {
      "cell_type": "code",
      "metadata": {
        "id": "-Vwbs2O4jQsP"
      },
      "source": [
        "#2 second last letter in the word count"
      ],
      "execution_count": null,
      "outputs": []
    },
    {
      "cell_type": "code",
      "metadata": {
        "colab": {
          "base_uri": "https://localhost:8080/"
        },
        "id": "6ivMJCG5koF5",
        "outputId": "2f2adb6b-c1f3-47dc-e3c8-be4e1838c037"
      },
      "source": [
        "\n",
        "def sec_last(v,v1):\n",
        "  c=0\n",
        "  for i in v:\n",
        "    if(list(i)[-2]==v1): # This converts each word into list and checks the second last word\n",
        "      c=c+1 #count increase if we found the word present in last second place\n",
        "  print(\"The letter {} has appeared {} times as the second last letter of a word.\".format(v1,c))\n",
        "\n",
        "v=input().upper().split()\n",
        "v1=input().upper()\n",
        "sec_last(v,v1)"
      ],
      "execution_count": null,
      "outputs": [
        {
          "output_type": "stream",
          "name": "stdout",
          "text": [
            "When the sun rises at Dawn, the CHICKEN flies into Windows.\n",
            "E\n",
            "The letter E has appeared 4 times as the second last letter of a word.\n"
          ]
        }
      ]
    },
    {
      "cell_type": "code",
      "metadata": {
        "id": "Sj-bKndkqpDV"
      },
      "source": [
        "#3 remove letter from a string"
      ],
      "execution_count": null,
      "outputs": []
    },
    {
      "cell_type": "code",
      "metadata": {
        "colab": {
          "base_uri": "https://localhost:8080/"
        },
        "id": "jjno3Skzr-fM",
        "outputId": "cc7d8cdf-e017-48e7-8396-1e0a79ca83c3"
      },
      "source": [
        "n=input()\n",
        "k=input()\n",
        "if(k=='even'):\n",
        "  print(n[::2]) #This even jumps in the list \n",
        "elif(k=='odd'):\n",
        "  print(n[1::2]) #This odd jumps in the list\n",
        "else:\n",
        "  p=n[int(k)-1::int(k)] #jumps based on the integer given\n",
        "  for i in n:\n",
        "    if i not in p:\n",
        "      print(i,end=\"\")\n",
        "      \n"
      ],
      "execution_count": null,
      "outputs": [
        {
          "output_type": "stream",
          "name": "stdout",
          "text": [
            "abcdef\n",
            "4\n",
            "abcef"
          ]
        }
      ]
    },
    {
      "cell_type": "code",
      "metadata": {
        "id": "B8sW9mnFw2wg"
      },
      "source": [
        "#4 caesar's encryption"
      ],
      "execution_count": null,
      "outputs": []
    },
    {
      "cell_type": "code",
      "metadata": {
        "colab": {
          "base_uri": "https://localhost:8080/"
        },
        "id": "gBumstgdxMMb",
        "outputId": "18d5f89b-ac7e-4b8e-f44e-99ee6671a2d1"
      },
      "source": [
        "n=input().lower().split()#converting the whole input to lower and split\n",
        "shift=int(input())\n",
        "for i in n:\n",
        "  k=list(i)\n",
        "  p=list(map(lambda j: ord(j)+shift,k)) #It first converts each letter to its ascii value then add number to it\n",
        "  p=list(map(chr,p)) # Here it converts back to character based on ascii value \n",
        "  print(\"\".join(p),end=\" \")\n",
        "  \n",
        "\n",
        "\n"
      ],
      "execution_count": null,
      "outputs": [
        {
          "output_type": "stream",
          "name": "stdout",
          "text": [
            "This is a secret message\n",
            "5\n",
            "ymnx nx f xjhwjy rjxxflj "
          ]
        }
      ]
    },
    {
      "cell_type": "code",
      "metadata": {
        "id": "5KnZEtIzz2JL"
      },
      "source": [
        "#5 brute force password"
      ],
      "execution_count": null,
      "outputs": []
    },
    {
      "cell_type": "code",
      "metadata": {
        "colab": {
          "base_uri": "https://localhost:8080/"
        },
        "id": "nXEXM2B80O-v",
        "outputId": "6094d0fa-fd55-463f-c3cf-134a65e26bea"
      },
      "source": [
        "import itertools\n",
        "n=input(\"Please enter 6 digit password using num pad: \")\n",
        "a=0\n",
        "for i in range(1, 9):\n",
        "  for j in itertools.product(n, repeat=i): #To get the list of possible numbers. \n",
        "    a=a+1 #For attempts count.\n",
        "    j = ''.join(j)\n",
        "    if(j == n):\n",
        "      print('The cracked password is {}, and it took {} attempts to break the code.'.format(j, a))\n",
        "      break\n"
      ],
      "execution_count": null,
      "outputs": [
        {
          "output_type": "stream",
          "name": "stdout",
          "text": [
            "Please enter 6 digit password using num pad: 112345\n",
            "The cracked password is 112345, and it took 9900 attempts to break the code.\n"
          ]
        }
      ]
    }
  ]
}